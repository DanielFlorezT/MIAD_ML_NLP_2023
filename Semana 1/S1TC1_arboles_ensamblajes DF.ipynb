{
 "cells": [
  {
   "cell_type": "markdown",
   "metadata": {},
   "source": [
    "![image info](https://raw.githubusercontent.com/albahnsen/MIAD_ML_and_NLP/main/images/banner_1.png)"
   ]
  },
  {
   "cell_type": "markdown",
   "metadata": {},
   "source": [
    "### Daniel Florez Thomas ###"
   ]
  },
  {
   "cell_type": "markdown",
   "metadata": {},
   "source": [
    "# Taller: Construcción e implementación de árboles de decisión y métodos de ensamblaje\n",
    "\n",
    "En este taller podrá poner en práctica los sus conocimientos sobre construcción e implementación de árboles de decisión y métodos de ensamblajes. El taller está constituido por 9 puntos, 5 relacionados con árboles de decisión (parte A) y 4 con métodos de ensamblaje (parte B)."
   ]
  },
  {
   "cell_type": "markdown",
   "metadata": {},
   "source": [
    "## Parte A - Árboles de decisión\n",
    "\n",
    "En esta parte del taller se usará el conjunto de datos de Capital Bikeshare de Kaggle, donde cada observación representa el alquiler de bicicletas durante una hora y día determinado. Para más detalles puede visitar los siguientes enlaces: [datos](https://archive.ics.uci.edu/ml/machine-learning-databases/00275/Bike-Sharing-Dataset.zip), [dicccionario de datos](https://archive.ics.uci.edu/ml/datasets/Bike+Sharing+Dataset#)."
   ]
  },
  {
   "cell_type": "markdown",
   "metadata": {},
   "source": [
    "### Datos prestamo de bicicletas"
   ]
  },
  {
   "cell_type": "code",
   "execution_count": 1,
   "metadata": {},
   "outputs": [],
   "source": [
    "import warnings\n",
    "warnings.filterwarnings('ignore')"
   ]
  },
  {
   "cell_type": "code",
   "execution_count": 2,
   "metadata": {},
   "outputs": [],
   "source": [
    "# Importación de librerías\n",
    "%matplotlib inline\n",
    "import pandas as pd\n",
    "import numpy as np\n",
    "from sklearn.model_selection import cross_val_score\n",
    "from sklearn.linear_model import LinearRegression\n",
    "from sklearn.tree import DecisionTreeRegressor, export_graphviz\n",
    "import matplotlib.pyplot as plt\n",
    "from sklearn.model_selection import train_test_split\n",
    "from sklearn import metrics\n",
    "from sklearn.metrics import mean_squared_error, r2_score\n",
    "from sklearn.tree import DecisionTreeRegressor\n",
    "from sklearn.preprocessing import StandardScaler\n",
    "from sklearn.linear_model import LogisticRegression"
   ]
  },
  {
   "cell_type": "code",
   "execution_count": 3,
   "metadata": {},
   "outputs": [
    {
     "data": {
      "text/html": [
       "<div>\n",
       "<style scoped>\n",
       "    .dataframe tbody tr th:only-of-type {\n",
       "        vertical-align: middle;\n",
       "    }\n",
       "\n",
       "    .dataframe tbody tr th {\n",
       "        vertical-align: top;\n",
       "    }\n",
       "\n",
       "    .dataframe thead th {\n",
       "        text-align: right;\n",
       "    }\n",
       "</style>\n",
       "<table border=\"1\" class=\"dataframe\">\n",
       "  <thead>\n",
       "    <tr style=\"text-align: right;\">\n",
       "      <th></th>\n",
       "      <th>season</th>\n",
       "      <th>holiday</th>\n",
       "      <th>workingday</th>\n",
       "      <th>weather</th>\n",
       "      <th>temp</th>\n",
       "      <th>atemp</th>\n",
       "      <th>humidity</th>\n",
       "      <th>windspeed</th>\n",
       "      <th>casual</th>\n",
       "      <th>registered</th>\n",
       "      <th>total</th>\n",
       "      <th>hour</th>\n",
       "    </tr>\n",
       "    <tr>\n",
       "      <th>datetime</th>\n",
       "      <th></th>\n",
       "      <th></th>\n",
       "      <th></th>\n",
       "      <th></th>\n",
       "      <th></th>\n",
       "      <th></th>\n",
       "      <th></th>\n",
       "      <th></th>\n",
       "      <th></th>\n",
       "      <th></th>\n",
       "      <th></th>\n",
       "      <th></th>\n",
       "    </tr>\n",
       "  </thead>\n",
       "  <tbody>\n",
       "    <tr>\n",
       "      <th>2011-01-01 00:00:00</th>\n",
       "      <td>1</td>\n",
       "      <td>0</td>\n",
       "      <td>0</td>\n",
       "      <td>1</td>\n",
       "      <td>9.84</td>\n",
       "      <td>14.395</td>\n",
       "      <td>81</td>\n",
       "      <td>0.0</td>\n",
       "      <td>3</td>\n",
       "      <td>13</td>\n",
       "      <td>16</td>\n",
       "      <td>0</td>\n",
       "    </tr>\n",
       "    <tr>\n",
       "      <th>2011-01-01 01:00:00</th>\n",
       "      <td>1</td>\n",
       "      <td>0</td>\n",
       "      <td>0</td>\n",
       "      <td>1</td>\n",
       "      <td>9.02</td>\n",
       "      <td>13.635</td>\n",
       "      <td>80</td>\n",
       "      <td>0.0</td>\n",
       "      <td>8</td>\n",
       "      <td>32</td>\n",
       "      <td>40</td>\n",
       "      <td>1</td>\n",
       "    </tr>\n",
       "    <tr>\n",
       "      <th>2011-01-01 02:00:00</th>\n",
       "      <td>1</td>\n",
       "      <td>0</td>\n",
       "      <td>0</td>\n",
       "      <td>1</td>\n",
       "      <td>9.02</td>\n",
       "      <td>13.635</td>\n",
       "      <td>80</td>\n",
       "      <td>0.0</td>\n",
       "      <td>5</td>\n",
       "      <td>27</td>\n",
       "      <td>32</td>\n",
       "      <td>2</td>\n",
       "    </tr>\n",
       "    <tr>\n",
       "      <th>2011-01-01 03:00:00</th>\n",
       "      <td>1</td>\n",
       "      <td>0</td>\n",
       "      <td>0</td>\n",
       "      <td>1</td>\n",
       "      <td>9.84</td>\n",
       "      <td>14.395</td>\n",
       "      <td>75</td>\n",
       "      <td>0.0</td>\n",
       "      <td>3</td>\n",
       "      <td>10</td>\n",
       "      <td>13</td>\n",
       "      <td>3</td>\n",
       "    </tr>\n",
       "    <tr>\n",
       "      <th>2011-01-01 04:00:00</th>\n",
       "      <td>1</td>\n",
       "      <td>0</td>\n",
       "      <td>0</td>\n",
       "      <td>1</td>\n",
       "      <td>9.84</td>\n",
       "      <td>14.395</td>\n",
       "      <td>75</td>\n",
       "      <td>0.0</td>\n",
       "      <td>0</td>\n",
       "      <td>1</td>\n",
       "      <td>1</td>\n",
       "      <td>4</td>\n",
       "    </tr>\n",
       "  </tbody>\n",
       "</table>\n",
       "</div>"
      ],
      "text/plain": [
       "                     season  holiday  workingday  weather  temp   atemp  \\\n",
       "datetime                                                                  \n",
       "2011-01-01 00:00:00       1        0           0        1  9.84  14.395   \n",
       "2011-01-01 01:00:00       1        0           0        1  9.02  13.635   \n",
       "2011-01-01 02:00:00       1        0           0        1  9.02  13.635   \n",
       "2011-01-01 03:00:00       1        0           0        1  9.84  14.395   \n",
       "2011-01-01 04:00:00       1        0           0        1  9.84  14.395   \n",
       "\n",
       "                     humidity  windspeed  casual  registered  total  hour  \n",
       "datetime                                                                   \n",
       "2011-01-01 00:00:00        81        0.0       3          13     16     0  \n",
       "2011-01-01 01:00:00        80        0.0       8          32     40     1  \n",
       "2011-01-01 02:00:00        80        0.0       5          27     32     2  \n",
       "2011-01-01 03:00:00        75        0.0       3          10     13     3  \n",
       "2011-01-01 04:00:00        75        0.0       0           1      1     4  "
      ]
     },
     "execution_count": 3,
     "metadata": {},
     "output_type": "execute_result"
    }
   ],
   "source": [
    "# Lectura de la información de archivo .csv\n",
    "bikes = pd.read_csv('https://raw.githubusercontent.com/davidzarruk/MIAD_ML_NLP_2023/main/datasets/bikeshare.csv', index_col='datetime', parse_dates=True)\n",
    "\n",
    "# Renombrar variable \"count\" a \"total\"\n",
    "bikes.rename(columns={'count':'total'}, inplace=True)\n",
    "\n",
    "# Crear la hora como una variable \n",
    "bikes['hour'] = bikes.index.hour\n",
    "\n",
    "# Visualización de los datos\n",
    "bikes.head()"
   ]
  },
  {
   "cell_type": "markdown",
   "metadata": {},
   "source": [
    "### Punto 1 - Análisis descriptivo\n",
    "\n",
    "Ejecute las celdas 1.1 y 1.2. A partir de los resultados realice un análisis descriptivo sobre las variables \"season\" y \"hour\", escriba sus inferencias sobre los datos. Para complementar su análisis puede usar métricas como máximo, mínimo, percentiles entre otros."
   ]
  },
  {
   "cell_type": "code",
   "execution_count": 4,
   "metadata": {},
   "outputs": [
    {
     "data": {
      "text/plain": [
       "season\n",
       "1    116.343261\n",
       "2    215.251372\n",
       "3    234.417124\n",
       "4    198.988296\n",
       "Name: total, dtype: float64"
      ]
     },
     "execution_count": 4,
     "metadata": {},
     "output_type": "execute_result"
    }
   ],
   "source": [
    "# Celda 1.1\n",
    "bikes.groupby('season').total.mean()"
   ]
  },
  {
   "cell_type": "markdown",
   "metadata": {},
   "source": [
    "Teniendo en cuenta el diccionario de datos de la base, los valores asignados para las seasons (1:winter, 2:spring, 3:summer, 4:fall) se puede observar que la mayor cantidad de bicicletas de alquiler (incluidas tanto ocasionales como registradas) totales se observan en el verano con un promedio de 234, seguido de la primavera con 215. Luego está el otoño con un promedio de 198 y por último el invierno con 116."
   ]
  },
  {
   "cell_type": "code",
   "execution_count": 5,
   "metadata": {
    "scrolled": true
   },
   "outputs": [
    {
     "data": {
      "text/plain": [
       "hour\n",
       "17    468.765351\n",
       "18    430.859649\n",
       "8     362.769231\n",
       "16    316.372807\n",
       "19    315.278509\n",
       "13    257.787281\n",
       "12    256.508772\n",
       "15    254.298246\n",
       "14    243.442982\n",
       "20    228.517544\n",
       "9     221.780220\n",
       "7     213.116484\n",
       "11    210.674725\n",
       "10    175.092308\n",
       "21    173.370614\n",
       "22    133.576754\n",
       "23     89.508772\n",
       "6      76.259341\n",
       "0      55.138462\n",
       "1      33.859031\n",
       "2      22.899554\n",
       "5      19.767699\n",
       "3      11.757506\n",
       "4       6.407240\n",
       "Name: total, dtype: float64"
      ]
     },
     "execution_count": 5,
     "metadata": {},
     "output_type": "execute_result"
    }
   ],
   "source": [
    "# Celda 1.2\n",
    "bikes.groupby('hour').total.mean().sort_values(ascending=False)"
   ]
  },
  {
   "cell_type": "code",
   "execution_count": 6,
   "metadata": {},
   "outputs": [
    {
     "data": {
      "text/plain": [
       "10886"
      ]
     },
     "execution_count": 6,
     "metadata": {},
     "output_type": "execute_result"
    }
   ],
   "source": [
    "bikes.count()['season']"
   ]
  },
  {
   "cell_type": "markdown",
   "metadata": {},
   "source": [
    "En la base se encuentran 10886 observaciones distribuidas en diferentes épocas del año. Reorganizando la cantidad de bicicletas rentadas por cada hora registradas en la base, se puede observar que en promedio, las horas de mayor uso son las 17 horas (5pm) con 468, seguidas de las 18 horas (6pm) con 430, luego las 8 horas (8am) con 362 en promedio. Las horas de menor uso son en la madrugada desde las 0 horas (12am) hasta las 6 horas (6am). Se puede observar que en promedio las personas rentan más bicicletas durante la tarde pos meridiano y llegando la noche."
   ]
  },
  {
   "cell_type": "code",
   "execution_count": 7,
   "metadata": {},
   "outputs": [
    {
     "data": {
      "text/plain": [
       "4    2734\n",
       "2    2733\n",
       "3    2733\n",
       "1    2686\n",
       "Name: season, dtype: int64"
      ]
     },
     "execution_count": 7,
     "metadata": {},
     "output_type": "execute_result"
    }
   ],
   "source": [
    "bikes.season.value_counts()"
   ]
  },
  {
   "cell_type": "markdown",
   "metadata": {},
   "source": [
    "Se puede observar que en la base existen casi la misma cantidad de datos para todas las estaciones, pero en el inverno hay ligeramente menos observaciones."
   ]
  },
  {
   "cell_type": "code",
   "execution_count": 8,
   "metadata": {},
   "outputs": [
    {
     "data": {
      "text/plain": [
       "(count    10886.000000\n",
       " mean         2.506614\n",
       " std          1.116174\n",
       " min          1.000000\n",
       " 25%          2.000000\n",
       " 50%          3.000000\n",
       " 75%          4.000000\n",
       " max          4.000000\n",
       " Name: season, dtype: float64,\n",
       " count    10886.000000\n",
       " mean        11.541613\n",
       " std          6.915838\n",
       " min          0.000000\n",
       " 25%          6.000000\n",
       " 50%         12.000000\n",
       " 75%         18.000000\n",
       " max         23.000000\n",
       " Name: hour, dtype: float64)"
      ]
     },
     "execution_count": 8,
     "metadata": {},
     "output_type": "execute_result"
    }
   ],
   "source": [
    "bikes.season.describe(), bikes.hour.describe()"
   ]
  },
  {
   "cell_type": "markdown",
   "metadata": {},
   "source": [
    "No es una medida descriptiva útil hablar del promedio de las variables Season y Hour porque en este análisis representan categorías específicas en cuestión. Sin embargo, para mencionar los resultados se puede observar que se registran las 4 seasons, y las 23 horas contando las 0 en la variable hour. Se observa que hay 10886 observaciones."
   ]
  },
  {
   "cell_type": "markdown",
   "metadata": {},
   "source": [
    "### Punto 2 - Análisis de gráficos\n",
    "\n",
    "Primero ejecute la celda 2.1 y asegúrese de comprender el código y el resultado. Luego, en cada una de celdas 2.2 y 2.3 escriba un código que genere una gráfica del número de bicicletas rentadas promedio para cada valor de la variable \"hour\" (hora) cuando la variable \"season\" es igual a 1 (invierno) e igual a 3 (verano), respectivamente. Analice y escriba sus hallazgos."
   ]
  },
  {
   "cell_type": "code",
   "execution_count": 9,
   "metadata": {},
   "outputs": [
    {
     "data": {
      "text/plain": [
       "<AxesSubplot:xlabel='hour'>"
      ]
     },
     "execution_count": 9,
     "metadata": {},
     "output_type": "execute_result"
    },
    {
     "data": {
      "image/png": "[encoded data removed]",
      "text/plain": [
       "<Figure size 640x480 with 1 Axes>"
      ]
     },
     "metadata": {},
     "output_type": "display_data"
    }
   ],
   "source": [
    "# Celda 2.1 - rentas promedio para cada valor de la variable \"hour\"\n",
    "bikes.groupby('hour').total.mean().plot()"
   ]
  },
  {
   "cell_type": "code",
   "execution_count": 10,
   "metadata": {},
   "outputs": [
    {
     "data": {
      "text/plain": [
       "<AxesSubplot:xlabel='hour'>"
      ]
     },
     "execution_count": 10,
     "metadata": {},
     "output_type": "execute_result"
    },
    {
     "data": {
      "image/png": "[encoded data removed]",
      "text/plain": [
       "<Figure size 640x480 with 1 Axes>"
      ]
     },
     "metadata": {},
     "output_type": "display_data"
    }
   ],
   "source": [
    "# Celda 2.2 - \"season\"=1 escriba su código y hallazgos \n",
    "bikes[bikes.season == 1].groupby('hour').total.mean().plot()"
   ]
  },
  {
   "cell_type": "code",
   "execution_count": 11,
   "metadata": {},
   "outputs": [
    {
     "data": {
      "text/plain": [
       "<AxesSubplot:xlabel='hour'>"
      ]
     },
     "execution_count": 11,
     "metadata": {},
     "output_type": "execute_result"
    },
    {
     "data": {
      "image/png": "[encoded data removed]",
      "text/plain": [
       "<Figure size 640x480 with 1 Axes>"
      ]
     },
     "metadata": {},
     "output_type": "display_data"
    }
   ],
   "source": [
    "# Celda 2.3 - \"season\"=3 escriba su código y hallazgos \n",
    "bikes[bikes.season == 3].groupby('hour').total.mean().plot()"
   ]
  },
  {
   "cell_type": "markdown",
   "metadata": {},
   "source": [
    "Se puede observar que al graficar el promedio de bicicletas rentadas por hora es coherente con el análisis comentado arriba respecto a que las horas donde se presenta una mayor cantidad son las 8 am, 5pm y 6pm, y las horas de menor cantidad son en la madrugada. Al analizar por temporada, se puede observar que la tendencia de las horas se mantiene pero en una menor cantidad en el invierno, puesto que es la que menos cantidad en promedio de bicicletas rentadas presenta respecto a las demás estaciones del año. En este caso, se puede observar que el verano presenta la misma tendencia respecto a las horas que el invierno, pero con cantidades totales mayores en promedio."
   ]
  },
  {
   "cell_type": "code",
   "execution_count": 12,
   "metadata": {},
   "outputs": [
    {
     "data": {
      "image/png": "[encoded data removed]",
      "text/plain": [
       "<Figure size 640x480 with 1 Axes>"
      ]
     },
     "metadata": {},
     "output_type": "display_data"
    }
   ],
   "source": [
    "bikesporhouryseason = bikes.groupby(['hour', 'season'])['total'].mean()\n",
    "\n",
    "winter = bikesporhouryseason.loc[:, 1]\n",
    "spring = bikesporhouryseason.loc[:, 2]\n",
    "summer = bikesporhouryseason.loc[:, 3]\n",
    "fall = bikesporhouryseason.loc[:, 4]\n",
    "\n",
    "plt.plot(winter.index, winter, label='Invierno')\n",
    "plt.plot(spring.index, spring, label='Primavera')\n",
    "plt.plot(summer.index, summer, label='Verano')\n",
    "plt.plot(fall.index, fall, label='Otoño')\n",
    "\n",
    "plt.xlabel('Hora del día')\n",
    "plt.ylabel('Promedio del número de bicicletas rentadas')\n",
    "plt.title('Promedio de bicicletas rentadas por temporada del año y horas del día')\n",
    "plt.legend()\n",
    "plt.show()"
   ]
  },
  {
   "cell_type": "markdown",
   "metadata": {},
   "source": [
    "Realizando un análisis gráfico del promedio de cantidad de bicicletas rentadas por cada hora del día en cada temporada del año (verano, primavera, invierno y otoño), se pueden observar que tal y como se mencionó arriba, el verano es quien más cantidad registra seguidos de la primavera. También es coherente con el análisis realizado de las horas, pues se registran los mayores picos a las 8 am, 5 pm y 6pm."
   ]
  },
  {
   "cell_type": "markdown",
   "metadata": {},
   "source": [
    "### Punto 3 - Regresión lineal\n",
    "En la celda 3 ajuste un modelo de regresión lineal a todo el conjunto de datos, utilizando \"total\" como variable de respuesta y \"season\" y \"hour\" como las únicas variables predictoras, teniendo en cuenta que la variable \"season\" es categórica. Luego, imprima los coeficientes e interprételos. ¿Cuáles son las limitaciones de la regresión lineal en este caso?"
   ]
  },
  {
   "cell_type": "code",
   "execution_count": 13,
   "metadata": {},
   "outputs": [],
   "source": [
    "# Celda 3\n",
    "# Se organizan las variables predictoras y se obtienen dummies de la categórica *season* eliminando la primera\n",
    "# observación para evitar multicolinealidad\n",
    "X = bikes[['hour', 'season']]\n",
    "X = pd.get_dummies(X, columns=['season'], drop_first=True)\n",
    "y = bikes['total']"
   ]
  },
  {
   "cell_type": "code",
   "execution_count": 14,
   "metadata": {},
   "outputs": [
    {
     "data": {
      "text/plain": [
       "Index(['hour', 'season_2', 'season_3', 'season_4'], dtype='object')"
      ]
     },
     "execution_count": 14,
     "metadata": {},
     "output_type": "execute_result"
    }
   ],
   "source": [
    "# Se verifica que queden las predictoras, sin season_1 que vendría siendo invierno que es omitida en este caso.\n",
    "X.columns"
   ]
  },
  {
   "cell_type": "code",
   "execution_count": 15,
   "metadata": {},
   "outputs": [
    {
     "data": {
      "text/plain": [
       "LinearRegression()"
      ]
     },
     "execution_count": 15,
     "metadata": {},
     "output_type": "execute_result"
    }
   ],
   "source": [
    "# Se divide la muestra y se entrena el modelo en la muestra de entrenamiento\n",
    "X_train, X_test, y_train, y_test = train_test_split(X, y, test_size=0.3, random_state=123)\n",
    "\n",
    "lr = LinearRegression()\n",
    "lr.fit(X_train, y_train)"
   ]
  },
  {
   "cell_type": "code",
   "execution_count": 16,
   "metadata": {},
   "outputs": [
    {
     "data": {
      "text/html": [
       "<div>\n",
       "<style scoped>\n",
       "    .dataframe tbody tr th:only-of-type {\n",
       "        vertical-align: middle;\n",
       "    }\n",
       "\n",
       "    .dataframe tbody tr th {\n",
       "        vertical-align: top;\n",
       "    }\n",
       "\n",
       "    .dataframe thead th {\n",
       "        text-align: right;\n",
       "    }\n",
       "</style>\n",
       "<table border=\"1\" class=\"dataframe\">\n",
       "  <thead>\n",
       "    <tr style=\"text-align: right;\">\n",
       "      <th></th>\n",
       "      <th>hour</th>\n",
       "      <th>season_2</th>\n",
       "      <th>season_3</th>\n",
       "      <th>season_4</th>\n",
       "    </tr>\n",
       "  </thead>\n",
       "  <tbody>\n",
       "    <tr>\n",
       "      <th>0</th>\n",
       "      <td>10.489617</td>\n",
       "      <td>101.046538</td>\n",
       "      <td>119.515577</td>\n",
       "      <td>85.044514</td>\n",
       "    </tr>\n",
       "  </tbody>\n",
       "</table>\n",
       "</div>"
      ],
      "text/plain": [
       "        hour    season_2    season_3   season_4\n",
       "0  10.489617  101.046538  119.515577  85.044514"
      ]
     },
     "execution_count": 16,
     "metadata": {},
     "output_type": "execute_result"
    }
   ],
   "source": [
    "# Se imprimen los coeficientes\n",
    "pd.DataFrame(data= [lr.coef_], columns = lr.feature_names_in_)"
   ]
  },
  {
   "cell_type": "markdown",
   "metadata": {},
   "source": [
    "Para darle una interpretación a cada uno de los coeficientes se debe asumir el supuesto de \"Ceteris paribus\", que quiere decir \"manteniendo todo lo demás constante\" en cada caso, de esta forma:\n",
    "\n",
    "hour = un incremento de una unidad en la variable \"hour\" genera un aumento de 10.489617 unidades en la variable respuesta \"total\". En otras palabras, por cada hora que pasa en el día, la cantidad total de bicicletas alquiladas aumenta en 10.5 unidades en promedio.\n",
    "\n",
    "Para entender los coeficientes season de estaciones del año, se deben comparar con el nivel base que en este caso es invierno, entonces:\n",
    "\n",
    "season_2 = se espera que el número total de bicicletas alquiladas aumente en 101.04 unidades durante la primavera respecto al invierno.\n",
    "\n",
    "season_3 = se espera que el número total de bicicletas alquiladas aumente en 119.5 unidades durante el verano respecto al invierno.\n",
    "\n",
    "season_4 = se espera que el número total de bicicletas alquiladas aumente en 85 unidades durante el otoño respecto al invierno.\n",
    "\n",
    "Algunas de las limitaciones más importantes que tiene la regresión lineal en este caso es que asume una relación lineal entre las variables predictoras y la variable de respuesta, y que asume que los errores entre las observaciones son independientes entre sí."
   ]
  },
  {
   "cell_type": "markdown",
   "metadata": {},
   "source": [
    "### Punto 4 - Árbol de decisión manual\n",
    "En la celda 4 cree un árbol de decisiones para pronosticar la variable \"total\" iterando **manualmente** sobre las variables \"hour\" y  \"season\". El árbol debe tener al menos 6 nodos finales."
   ]
  },
  {
   "cell_type": "code",
   "execution_count": 17,
   "metadata": {},
   "outputs": [],
   "source": [
    "# Celda 4\n",
    "#Con los notebooks del curso se adecuó el siguiente programa para pronosticar la variable total la cual es contínua\n",
    "\n",
    "#Se seleccionan las variables predictoras y la variable de respuesta, y se divide la muestra en test y train\n",
    "y = bikes['total']\n",
    "X = bikes[['season', 'hour']]\n",
    "X_train, X_test, y_train, y_test = train_test_split(X, y, test_size=0.3, random_state=123)\n",
    "\n",
    "# Definición de parámetros y criterios de parada\n",
    "max_depth = None\n",
    "num_pct = 10\n",
    "max_features = None\n",
    "min_gain=0.001\n",
    "\n",
    "\n",
    "# Definición de la función que calcula el gini index\n",
    "def gini(y):\n",
    "    if y.shape[0] == 0:\n",
    "        return 0\n",
    "    else:\n",
    "        return 1 - (y.mean()**2 + (1 - y.mean())**2)\n",
    "\n",
    "# Definición de la función gini_imputiry para calular la ganancia de una variable predictora j dado el punto de corte k\n",
    "def gini_impurity(X_col, y, split):\n",
    "    \n",
    "    filter_l = X_col < split\n",
    "    y_l = y.loc[filter_l]\n",
    "    y_r = y.loc[~filter_l]\n",
    "    \n",
    "    n_l = y_l.shape[0]\n",
    "    n_r = y_r.shape[0]\n",
    "    \n",
    "    gini_y = gini(y)\n",
    "    gini_l = gini(y_l)\n",
    "    gini_r = gini(y_r)\n",
    "    \n",
    "    gini_impurity_ = gini_y - (n_l / (n_l + n_r) * gini_l + n_r / (n_l + n_r) * gini_r)\n",
    "    \n",
    "    return gini_impurity_\n",
    "\n",
    "#Definición de la función best_split para calcular cuál es la mejor variable y punto de corte para hacer la bifurcación del árbol\n",
    "def best_split(X, y, num_pct=10):\n",
    "    \n",
    "    features = range(X.shape[1])\n",
    "    \n",
    "    best_split = [0, 0, 0]  # j, split, gain\n",
    "    \n",
    "    # Para todas las varibles \n",
    "    for j in features:\n",
    "        \n",
    "        splits = np.percentile(X.iloc[:, j], np.arange(0, 100, 100.0 / (num_pct+1)).tolist())\n",
    "        splits = np.unique(splits)[1:]\n",
    "        \n",
    "        # Para cada partición\n",
    "        for split in splits:\n",
    "            gain = gini_impurity(X.iloc[:, j], y, split)\n",
    "                        \n",
    "            if gain > best_split[2]:\n",
    "                best_split = [j, split, gain]\n",
    "    \n",
    "    return best_split\n"
   ]
  },
  {
   "cell_type": "code",
   "execution_count": 18,
   "metadata": {},
   "outputs": [],
   "source": [
    "# Definición de la función tree_grow para hacer un crecimiento recursivo del árbol, con los 6 nodos finales especificados\n",
    "def tree_grow(X, y, level=0, min_gain=0.001, max_depth=None, num_pct=10, min_leaf=6):\n",
    "    \n",
    "    # Si solo es una observación\n",
    "    if X.shape[0] == 1:\n",
    "        tree = dict(y_pred=y.iloc[:1].values[0], y_prob=y.iloc[:1].values[0], level=level, split=-1, n_samples=1, gain=0)\n",
    "        return tree\n",
    "    \n",
    "    # Calcular la mejor división\n",
    "    j, split, gain = best_split(X, y, num_pct)\n",
    "    \n",
    "    # Guardar el árbol y estimar la predicción\n",
    "    y_pred = y.mean() \n",
    "    y_prob = y.mean() \n",
    "    \n",
    "    tree = dict(y_pred=y_pred, y_prob=y_prob, level=level, split=-1, n_samples=X.shape[0], gain=gain)\n",
    "    # Revisar el criterio de parada \n",
    "    if gain < min_gain:\n",
    "        return tree\n",
    "    if max_depth is not None:\n",
    "        if level >= max_depth:\n",
    "            return tree\n",
    "    if tree['n_samples'] <= min_leaf:\n",
    "        return tree\n",
    "        \n",
    "    # Continuar creando la partición\n",
    "    filter_l = X.iloc[:, j] < split\n",
    "    X_l, y_l = X.loc[filter_l], y.loc[filter_l]\n",
    "    X_r, y_r = X.loc[~filter_l], y.loc[~filter_l]\n",
    "    tree['split'] = [j, split]\n",
    "\n",
    "    # Siguiente iteración para cada partición\n",
    "    \n",
    "    tree['sl'] = tree_grow(X_l, y_l, level + 1, min_gain=min_gain, max_depth=max_depth, num_pct=num_pct, min_leaf=min_leaf)\n",
    "    tree['sr'] = tree_grow(X_r, y_r, level + 1, min_gain=min_gain, max_depth=max_depth, num_pct=num_pct, min_leaf=min_leaf)\n",
    "    \n",
    "    return tree"
   ]
  },
  {
   "cell_type": "code",
   "execution_count": 19,
   "metadata": {},
   "outputs": [
    {
     "data": {
      "text/plain": [
       "{'y_pred': 191.57413191254824,\n",
       " 'y_prob': 191.57413191254824,\n",
       " 'level': 0,\n",
       " 'split': [1, 8.0],\n",
       " 'n_samples': 10886,\n",
       " 'gain': 18268.811823533004,\n",
       " 'sl': {'y_pred': 55.437673900946024,\n",
       "  'y_prob': 55.437673900946024,\n",
       "  'level': 1,\n",
       "  'split': [1, 7.0],\n",
       "  'n_samples': 3594,\n",
       "  'gain': 7207.700659959655,\n",
       "  'sl': {'y_pred': 32.58203249442498,\n",
       "   'y_prob': 32.58203249442498,\n",
       "   'level': 2,\n",
       "   'split': [1, 6.0],\n",
       "   'n_samples': 3139,\n",
       "   'gain': 646.8008927589567,\n",
       "   'sl': {'y_pred': 25.177719821162444,\n",
       "    'y_prob': 25.177719821162444,\n",
       "    'level': 3,\n",
       "    'split': [1, 2.0],\n",
       "    'n_samples': 2684,\n",
       "    'gain': 382.8088308604629,\n",
       "    'sl': {'y_pred': 44.51045104510451,\n",
       "     'y_prob': 44.51045104510451,\n",
       "     'level': 4,\n",
       "     'split': [0, 2.0],\n",
       "     'n_samples': 909,\n",
       "     'gain': 291.4004681825131,\n",
       "     'sl': {'y_pred': 23.52654867256637,\n",
       "      'y_prob': 23.52654867256637,\n",
       "      'level': 5,\n",
       "      'split': -1,\n",
       "      'n_samples': 226,\n",
       "      'gain': 45.41972746495435},\n",
       "     'sr': {'y_pred': 51.45387994143485,\n",
       "      'y_prob': 51.45387994143485,\n",
       "      'level': 5,\n",
       "      'split': -1,\n",
       "      'n_samples': 683,\n",
       "      'gain': 316.1751143186211}},\n",
       "    'sr': {'y_pred': 15.27718309859155,\n",
       "     'y_prob': 15.27718309859155,\n",
       "     'level': 4,\n",
       "     'split': [1, 3.0],\n",
       "     'n_samples': 1775,\n",
       "     'gain': 39.229899273669275,\n",
       "     'sl': {'y_pred': 22.899553571428573,\n",
       "      'y_prob': 22.899553571428573,\n",
       "      'level': 5,\n",
       "      'split': -1,\n",
       "      'n_samples': 448,\n",
       "      'gain': 58.9740013202146},\n",
       "     'sr': {'y_pred': 12.703843255463452,\n",
       "      'y_prob': 12.703843255463452,\n",
       "      'level': 5,\n",
       "      'split': -1,\n",
       "      'n_samples': 1327,\n",
       "      'gain': 51.55182386612603}}},\n",
       "   'sr': {'y_pred': 76.25934065934067,\n",
       "    'y_prob': 76.25934065934067,\n",
       "    'level': 3,\n",
       "    'split': [0, 2.0],\n",
       "    'n_samples': 455,\n",
       "    'gain': 743.095592335012,\n",
       "    'sl': {'y_pred': 42.72566371681416,\n",
       "     'y_prob': 42.72566371681416,\n",
       "     'level': 4,\n",
       "     'split': -1,\n",
       "     'n_samples': 113,\n",
       "     'gain': 0},\n",
       "    'sr': {'y_pred': 87.3391812865497,\n",
       "     'y_prob': 87.3391812865497,\n",
       "     'level': 4,\n",
       "     'split': [0, 4.0],\n",
       "     'n_samples': 342,\n",
       "     'gain': 25.855143462948035,\n",
       "     'sl': {'y_pred': 89.88157894736842,\n",
       "      'y_prob': 89.88157894736842,\n",
       "      'level': 5,\n",
       "      'split': -1,\n",
       "      'n_samples': 228,\n",
       "      'gain': 95.19579101261843},\n",
       "     'sr': {'y_pred': 82.25438596491227,\n",
       "      'y_prob': 82.25438596491227,\n",
       "      'level': 5,\n",
       "      'split': -1,\n",
       "      'n_samples': 114,\n",
       "      'gain': 0}}}},\n",
       "  'sr': {'y_pred': 213.11648351648353,\n",
       "   'y_prob': 213.11648351648353,\n",
       "   'level': 2,\n",
       "   'split': [0, 2.0],\n",
       "   'n_samples': 455,\n",
       "   'gain': 5197.1071057533845,\n",
       "   'sl': {'y_pred': 124.43362831858407,\n",
       "    'y_prob': 124.43362831858407,\n",
       "    'level': 3,\n",
       "    'split': -1,\n",
       "    'n_samples': 113,\n",
       "    'gain': 0},\n",
       "   'sr': {'y_pred': 242.41812865497076,\n",
       "    'y_prob': 242.41812865497076,\n",
       "    'level': 3,\n",
       "    'split': [0, 4.0],\n",
       "    'n_samples': 342,\n",
       "    'gain': 131.37717588317173,\n",
       "    'sl': {'y_pred': 248.14912280701753,\n",
       "     'y_prob': 248.14912280701753,\n",
       "     'level': 4,\n",
       "     'split': [0, 3.0],\n",
       "     'n_samples': 228,\n",
       "     'gain': 504.7277623884438,\n",
       "     'sl': {'y_pred': 232.26315789473685,\n",
       "      'y_prob': 232.26315789473685,\n",
       "      'level': 5,\n",
       "      'split': -1,\n",
       "      'n_samples': 114,\n",
       "      'gain': 0},\n",
       "     'sr': {'y_pred': 264.03508771929825,\n",
       "      'y_prob': 264.03508771929825,\n",
       "      'level': 5,\n",
       "      'split': -1,\n",
       "      'n_samples': 114,\n",
       "      'gain': 0}},\n",
       "    'sr': {'y_pred': 230.9561403508772,\n",
       "     'y_prob': 230.9561403508772,\n",
       "     'level': 4,\n",
       "     'split': -1,\n",
       "     'n_samples': 114,\n",
       "     'gain': 0}}}},\n",
       " 'sr': {'y_pred': 258.6715578716402,\n",
       "  'y_prob': 258.6715578716402,\n",
       "  'level': 1,\n",
       "  'split': [1, 21.0],\n",
       "  'n_samples': 7292,\n",
       "  'gain': 7392.920792160614,\n",
       "  'sl': {'y_pred': 287.88808237677245,\n",
       "   'y_prob': 287.88808237677245,\n",
       "   'level': 2,\n",
       "   'split': [0, 2.0],\n",
       "   'n_samples': 5924,\n",
       "   'gain': 8304.11949599313,\n",
       "   'sl': {'y_pred': 176.1299052774019,\n",
       "    'y_prob': 176.1299052774019,\n",
       "    'level': 3,\n",
       "    'split': [1, 16.0],\n",
       "    'n_samples': 1478,\n",
       "    'gain': 1134.7125713419155,\n",
       "    'sl': {'y_pred': 157.25770925110132,\n",
       "     'y_prob': 157.25770925110132,\n",
       "     'level': 4,\n",
       "     'split': [1, 9.0],\n",
       "     'n_samples': 908,\n",
       "     'gain': 2624.6681854894996,\n",
       "     'sl': {'y_pred': 253.34513274336283,\n",
       "      'y_prob': 253.34513274336283,\n",
       "      'level': 5,\n",
       "      'split': -1,\n",
       "      'n_samples': 113,\n",
       "      'gain': 0},\n",
       "     'sr': {'y_pred': 143.6,\n",
       "      'y_prob': 143.6,\n",
       "      'level': 5,\n",
       "      'split': -1,\n",
       "      'n_samples': 795,\n",
       "      'gain': 439.6561657092534}},\n",
       "    'sr': {'y_pred': 206.19298245614036,\n",
       "     'y_prob': 206.19298245614036,\n",
       "     'level': 4,\n",
       "     'split': [1, 19.0],\n",
       "     'n_samples': 570,\n",
       "     'gain': 4157.134528572889,\n",
       "     'sl': {'y_pred': 243.41812865497076,\n",
       "      'y_prob': 243.41812865497076,\n",
       "      'level': 5,\n",
       "      'split': -1,\n",
       "      'n_samples': 342,\n",
       "      'gain': 3000.6049382716155},\n",
       "     'sr': {'y_pred': 150.35526315789474,\n",
       "      'y_prob': 150.35526315789474,\n",
       "      'level': 5,\n",
       "      'split': -1,\n",
       "      'n_samples': 228,\n",
       "      'gain': 1347.89785318559}}},\n",
       "   'sr': {'y_pred': 325.04026090868194,\n",
       "    'y_prob': 325.04026090868194,\n",
       "    'level': 3,\n",
       "    'split': [1, 16.0],\n",
       "    'n_samples': 4446,\n",
       "    'gain': 7126.654106105911,\n",
       "    'sl': {'y_pred': 277.8483187134503,\n",
       "     'y_prob': 277.8483187134503,\n",
       "     'level': 4,\n",
       "     'split': [1, 9.0],\n",
       "     'n_samples': 2736,\n",
       "     'gain': 4188.375695612398,\n",
       "     'sl': {'y_pred': 398.92397660818716,\n",
       "      'y_prob': 398.92397660818716,\n",
       "      'level': 5,\n",
       "      'split': -1,\n",
       "      'n_samples': 342,\n",
       "      'gain': 76.23025888297707},\n",
       "     'sr': {'y_pred': 260.5517961570593,\n",
       "      'y_prob': 260.5517961570593,\n",
       "      'level': 5,\n",
       "      'split': -1,\n",
       "      'n_samples': 2394,\n",
       "      'gain': 1622.4360912724806}},\n",
       "    'sr': {'y_pred': 400.5473684210526,\n",
       "     'y_prob': 400.5473684210526,\n",
       "     'level': 4,\n",
       "     'split': [1, 19.0],\n",
       "     'n_samples': 1710,\n",
       "     'gain': 10357.058249717928,\n",
       "     'sl': {'y_pred': 459.30409356725147,\n",
       "      'y_prob': 459.30409356725147,\n",
       "      'level': 5,\n",
       "      'split': -1,\n",
       "      'n_samples': 1026,\n",
       "      'gain': 10070.885409185605},\n",
       "     'sr': {'y_pred': 312.4122807017544,\n",
       "      'y_prob': 312.4122807017544,\n",
       "      'level': 5,\n",
       "      'split': -1,\n",
       "      'n_samples': 684,\n",
       "      'gain': 4838.748401217395}}}},\n",
       "  'sr': {'y_pred': 132.15204678362574,\n",
       "   'y_prob': 132.15204678362574,\n",
       "   'level': 2,\n",
       "   'split': [0, 2.0],\n",
       "   'n_samples': 1368,\n",
       "   'gain': 2478.289069001301,\n",
       "   'sl': {'y_pred': 71.18128654970761,\n",
       "    'y_prob': 71.18128654970761,\n",
       "    'level': 3,\n",
       "    'split': [1, 23.0],\n",
       "    'n_samples': 342,\n",
       "    'gain': 668.1166854758721,\n",
       "    'sl': {'y_pred': 84.10526315789474,\n",
       "     'y_prob': 84.10526315789474,\n",
       "     'level': 4,\n",
       "     'split': [1, 22.0],\n",
       "     'n_samples': 228,\n",
       "     'gain': 250.5657125269281,\n",
       "     'sl': {'y_pred': 95.29824561403508,\n",
       "      'y_prob': 95.29824561403508,\n",
       "      'level': 5,\n",
       "      'split': -1,\n",
       "      'n_samples': 114,\n",
       "      'gain': 0},\n",
       "     'sr': {'y_pred': 72.91228070175438,\n",
       "      'y_prob': 72.91228070175438,\n",
       "      'level': 5,\n",
       "      'split': -1,\n",
       "      'n_samples': 114,\n",
       "      'gain': 0}},\n",
       "    'sr': {'y_pred': 45.333333333333336,\n",
       "     'y_prob': 45.333333333333336,\n",
       "     'level': 4,\n",
       "     'split': -1,\n",
       "     'n_samples': 114,\n",
       "     'gain': 0}},\n",
       "   'sr': {'y_pred': 152.47563352826512,\n",
       "    'y_prob': 152.47563352826512,\n",
       "    'level': 3,\n",
       "    'split': [1, 23.0],\n",
       "    'n_samples': 1026,\n",
       "    'gain': 2327.263104696969,\n",
       "    'sl': {'y_pred': 176.59649122807016,\n",
       "     'y_prob': 176.59649122807016,\n",
       "     'level': 4,\n",
       "     'split': [1, 22.0],\n",
       "     'n_samples': 684,\n",
       "     'gain': 1039.5200061557407,\n",
       "     'sl': {'y_pred': 199.39473684210526,\n",
       "      'y_prob': 199.39473684210526,\n",
       "      'level': 5,\n",
       "      'split': -1,\n",
       "      'n_samples': 342,\n",
       "      'gain': 1333.531009541417},\n",
       "     'sr': {'y_pred': 153.7982456140351,\n",
       "      'y_prob': 153.7982456140351,\n",
       "      'level': 5,\n",
       "      'split': -1,\n",
       "      'n_samples': 342,\n",
       "      'gain': 749.9910741766653}},\n",
       "    'sr': {'y_pred': 104.23391812865498,\n",
       "     'y_prob': 104.23391812865498,\n",
       "     'level': 4,\n",
       "     'split': [0, 4.0],\n",
       "     'n_samples': 342,\n",
       "     'gain': 223.0743134639706,\n",
       "     'sl': {'y_pred': 111.70175438596492,\n",
       "      'y_prob': 111.70175438596492,\n",
       "      'level': 5,\n",
       "      'split': -1,\n",
       "      'n_samples': 228,\n",
       "      'gain': 200.70236995998494},\n",
       "     'sr': {'y_pred': 89.29824561403508,\n",
       "      'y_prob': 89.29824561403508,\n",
       "      'level': 5,\n",
       "      'split': -1,\n",
       "      'n_samples': 114,\n",
       "      'gain': 0}}}}}}"
      ]
     },
     "execution_count": 19,
     "metadata": {},
     "output_type": "execute_result"
    }
   ],
   "source": [
    "# Para que sean 6 nodos finales.\n",
    "tree=tree_grow(X, y, level=0, max_depth=5)\n",
    "tree"
   ]
  },
  {
   "cell_type": "code",
   "execution_count": 20,
   "metadata": {},
   "outputs": [],
   "source": [
    "# Definición de la función tree_predict para hacer predicciones según las variables 'X' y el árbol 'tree'\n",
    "def tree_predict(X, tree, proba=False):\n",
    "    \n",
    "    predicted = np.ones(X.shape[0])\n",
    "\n",
    "    # Revisar si es el nodo final\n",
    "    if tree['split'] == -1:\n",
    "        if not proba:\n",
    "            predicted = predicted * tree['y_pred']\n",
    "        else:\n",
    "            predicted = predicted * tree['y_prob']\n",
    "            \n",
    "    else:\n",
    "        \n",
    "        j, split = tree['split']\n",
    "        filter_l = (X.iloc[:, j] < split)\n",
    "        X_l = X.loc[filter_l]\n",
    "        X_r = X.loc[~filter_l]\n",
    "\n",
    "        if X_l.shape[0] == 0:  # Si el nodo izquierdo está vacio solo continua con el derecho \n",
    "            predicted[~filter_l] = tree_predict(X_r, tree['sr'], proba)\n",
    "        elif X_r.shape[0] == 0:  #  Si el nodo derecho está vacio solo continua con el izquierdo\n",
    "            predicted[filter_l] = tree_predict(X_l, tree['sl'], proba)\n",
    "        else:\n",
    "            predicted[filter_l] = tree_predict(X_l, tree['sl'], proba)\n",
    "            predicted[~filter_l] = tree_predict(X_r, tree['sr'], proba)\n",
    "\n",
    "    return predicted"
   ]
  },
  {
   "cell_type": "code",
   "execution_count": 21,
   "metadata": {},
   "outputs": [
    {
     "data": {
      "text/plain": [
       "array([ 23.52654867,  23.52654867,  22.89955357, ..., 199.39473684,\n",
       "       153.79824561,  89.29824561])"
      ]
     },
     "execution_count": 21,
     "metadata": {},
     "output_type": "execute_result"
    }
   ],
   "source": [
    "# Ejecución de función tree_predict\n",
    "tree_predict(X, tree)"
   ]
  },
  {
   "cell_type": "code",
   "execution_count": 22,
   "metadata": {},
   "outputs": [
    {
     "name": "stdout",
     "output_type": "stream",
     "text": [
      "MSE en el conjunto de entrenamiento: 13832.965735418105\n",
      "MSE en el conjunto de evaluación: 14582.057458306206\n",
      "R2 en el conjunto de entrenamiento: 0.5801609315622525\n",
      "R2 en el conjunto de evaluación: 0.5511420829510267\n"
     ]
    }
   ],
   "source": [
    "# Para evaluar el desempeño del árbol se realizan predicciones con el arbol creado:\n",
    "# Se hacen predicciones sobre el conjunto de entrenamiento y de prueba\n",
    "y_train_pred = tree_predict(X_train, tree)\n",
    "y_test_pred = tree_predict(X_test, tree)\n",
    "\n",
    "# Se calcula el MSE sobre el conjunto de entrenamiento y de prueba\n",
    "mse_train = mean_squared_error(y_train, y_train_pred)\n",
    "mse_test = mean_squared_error(y_test, y_test_pred)\n",
    "\n",
    "# Se calcula el R2 sobre el conjunto de entrenamiento y de prueba\n",
    "r2_train = r2_score(y_train, y_train_pred)\n",
    "r2_test = r2_score(y_test, y_test_pred)\n",
    "\n",
    "print('MSE en el conjunto de entrenamiento:', mse_train)\n",
    "print('MSE en el conjunto de evaluación:', mse_test)\n",
    "print('R2 en el conjunto de entrenamiento:', r2_train)\n",
    "print('R2 en el conjunto de evaluación:', r2_test)"
   ]
  },
  {
   "cell_type": "markdown",
   "metadata": {},
   "source": [
    "El desempeño del modelo no es muy bueno, pues tiene un alto MSE y un R2 regular en las muestras, cercano al azar, aunque levemente mayor. El modelo parece estar ligeramente sobreajustado pues presenta un menor MSE y mayor R2 en el conjunto de entrenamiento respecto al conjunto de prueba."
   ]
  },
  {
   "cell_type": "markdown",
   "metadata": {
    "tags": []
   },
   "source": [
    "### Punto 5 - Árbol de decisión con librería\n",
    "En la celda 5 entrene un árbol de decisiones con la **librería sklearn**, usando las variables predictoras \"season\" y \"hour\" y calibre los parámetros que considere conveniente para obtener un mejor desempeño. Recuerde dividir los datos en conjuntos de entrenamiento y validación para esto. Comente el desempeño del modelo con alguna métrica de desempeño de modelos de regresión y compare desempeño con el modelo del punto 3."
   ]
  },
  {
   "cell_type": "code",
   "execution_count": 23,
   "metadata": {},
   "outputs": [
    {
     "name": "stdout",
     "output_type": "stream",
     "text": [
      "El R2 del modelo en la muestra de evaluación es\n"
     ]
    },
    {
     "data": {
      "text/plain": [
       "0.3357507305984354"
      ]
     },
     "execution_count": 23,
     "metadata": {},
     "output_type": "execute_result"
    }
   ],
   "source": [
    "# Celda 5\n",
    "# La muestra está dividida en conjunto de entrenamiento y evaluación desde el punto anterior, de manera que\n",
    "# solo se define el modelo para poder compararlos entre sí.\n",
    "TreeRegressor= DecisionTreeRegressor()\n",
    "TreeRegressor.fit(X_train, y_train)\n",
    "print(\"El R2 del modelo en la muestra de evaluación es\")\n",
    "metrics.r2_score(TreeRegressor.predict(X_test), y_test)"
   ]
  },
  {
   "cell_type": "code",
   "execution_count": 24,
   "metadata": {},
   "outputs": [
    {
     "name": "stdout",
     "output_type": "stream",
     "text": [
      "El R2 del modelo en la muestra de entrenamiento es\n"
     ]
    },
    {
     "data": {
      "text/plain": [
       "0.38721272322436207"
      ]
     },
     "execution_count": 24,
     "metadata": {},
     "output_type": "execute_result"
    }
   ],
   "source": [
    "print(\"El R2 del modelo en la muestra de entrenamiento es\")\n",
    "metrics.r2_score(TreeRegressor.predict(X_train), y_train)"
   ]
  },
  {
   "cell_type": "code",
   "execution_count": 25,
   "metadata": {},
   "outputs": [
    {
     "name": "stdout",
     "output_type": "stream",
     "text": [
      "El MSE del modelo en la muestra de evaluación es\n"
     ]
    },
    {
     "data": {
      "text/plain": [
       "13465.38529268232"
      ]
     },
     "execution_count": 25,
     "metadata": {},
     "output_type": "execute_result"
    }
   ],
   "source": [
    "print(\"El MSE del modelo en la muestra de evaluación es\")\n",
    "metrics.mean_squared_error(TreeRegressor.predict(X_test), y_test)"
   ]
  },
  {
   "cell_type": "code",
   "execution_count": 26,
   "metadata": {},
   "outputs": [
    {
     "name": "stdout",
     "output_type": "stream",
     "text": [
      "El MSE del modelo en la muestra de entrenamiento es\n"
     ]
    },
    {
     "data": {
      "text/plain": [
       "12518.869213955259"
      ]
     },
     "execution_count": 26,
     "metadata": {},
     "output_type": "execute_result"
    }
   ],
   "source": [
    "print(\"El MSE del modelo en la muestra de entrenamiento es\")\n",
    "metrics.mean_squared_error(TreeRegressor.predict(X_train), y_train)"
   ]
  },
  {
   "cell_type": "markdown",
   "metadata": {},
   "source": [
    "El presente modelo tiene un mejor desempeño que el realizado manualmente en el punto anterior en términos del error  MSE pues es menor, pero el R2 es levemente inferior y esta métrica se busca que sea mayor. En términos generales pareciera que el modelo del punto anterior tiene mejor desempeño pues tiene un valor de R2 mayor en ambos conjuntos además de que el MSE es similar, aunque sea menor. Además, el presente modelo parece que también tiene un ligero sobreajuste pues el conjunto de entrenamiento tiene mejor desempeño en términos de MSE y R2 respecto al conjunto de evaluación."
   ]
  },
  {
   "cell_type": "markdown",
   "metadata": {},
   "source": [
    "## Parte B - Métodos de ensamblajes\n",
    "En esta parte del taller se usará el conjunto de datos de Popularidad de Noticias Online. El objetivo es predecir si la notica es popular o no, la popularidad está dada por la cantidad de reacciones en redes sociales. Para más detalles puede visitar el siguiente enlace: [datos](https://archive.ics.uci.edu/ml/datasets/online+news+popularity)."
   ]
  },
  {
   "cell_type": "markdown",
   "metadata": {},
   "source": [
    "### Datos popularidad de noticias"
   ]
  },
  {
   "cell_type": "code",
   "execution_count": 27,
   "metadata": {},
   "outputs": [
    {
     "data": {
      "text/html": [
       "<div>\n",
       "<style scoped>\n",
       "    .dataframe tbody tr th:only-of-type {\n",
       "        vertical-align: middle;\n",
       "    }\n",
       "\n",
       "    .dataframe tbody tr th {\n",
       "        vertical-align: top;\n",
       "    }\n",
       "\n",
       "    .dataframe thead th {\n",
       "        text-align: right;\n",
       "    }\n",
       "</style>\n",
       "<table border=\"1\" class=\"dataframe\">\n",
       "  <thead>\n",
       "    <tr style=\"text-align: right;\">\n",
       "      <th></th>\n",
       "      <th>url</th>\n",
       "      <th>timedelta</th>\n",
       "      <th>n_tokens_title</th>\n",
       "      <th>n_tokens_content</th>\n",
       "      <th>n_unique_tokens</th>\n",
       "      <th>n_non_stop_words</th>\n",
       "      <th>n_non_stop_unique_tokens</th>\n",
       "      <th>num_hrefs</th>\n",
       "      <th>num_self_hrefs</th>\n",
       "      <th>num_imgs</th>\n",
       "      <th>...</th>\n",
       "      <th>min_positive_polarity</th>\n",
       "      <th>max_positive_polarity</th>\n",
       "      <th>avg_negative_polarity</th>\n",
       "      <th>min_negative_polarity</th>\n",
       "      <th>max_negative_polarity</th>\n",
       "      <th>title_subjectivity</th>\n",
       "      <th>title_sentiment_polarity</th>\n",
       "      <th>abs_title_subjectivity</th>\n",
       "      <th>abs_title_sentiment_polarity</th>\n",
       "      <th>Popular</th>\n",
       "    </tr>\n",
       "  </thead>\n",
       "  <tbody>\n",
       "    <tr>\n",
       "      <th>0</th>\n",
       "      <td>http://mashable.com/2014/12/10/cia-torture-rep...</td>\n",
       "      <td>28.0</td>\n",
       "      <td>9.0</td>\n",
       "      <td>188.0</td>\n",
       "      <td>0.732620</td>\n",
       "      <td>1.0</td>\n",
       "      <td>0.844262</td>\n",
       "      <td>5.0</td>\n",
       "      <td>1.0</td>\n",
       "      <td>1.0</td>\n",
       "      <td>...</td>\n",
       "      <td>0.200000</td>\n",
       "      <td>0.80</td>\n",
       "      <td>-0.487500</td>\n",
       "      <td>-0.60</td>\n",
       "      <td>-0.250000</td>\n",
       "      <td>0.9</td>\n",
       "      <td>0.8</td>\n",
       "      <td>0.4</td>\n",
       "      <td>0.8</td>\n",
       "      <td>1</td>\n",
       "    </tr>\n",
       "    <tr>\n",
       "      <th>1</th>\n",
       "      <td>http://mashable.com/2013/10/18/bitlock-kicksta...</td>\n",
       "      <td>447.0</td>\n",
       "      <td>7.0</td>\n",
       "      <td>297.0</td>\n",
       "      <td>0.653199</td>\n",
       "      <td>1.0</td>\n",
       "      <td>0.815789</td>\n",
       "      <td>9.0</td>\n",
       "      <td>4.0</td>\n",
       "      <td>1.0</td>\n",
       "      <td>...</td>\n",
       "      <td>0.160000</td>\n",
       "      <td>0.50</td>\n",
       "      <td>-0.135340</td>\n",
       "      <td>-0.40</td>\n",
       "      <td>-0.050000</td>\n",
       "      <td>0.1</td>\n",
       "      <td>-0.1</td>\n",
       "      <td>0.4</td>\n",
       "      <td>0.1</td>\n",
       "      <td>0</td>\n",
       "    </tr>\n",
       "    <tr>\n",
       "      <th>2</th>\n",
       "      <td>http://mashable.com/2013/07/24/google-glass-po...</td>\n",
       "      <td>533.0</td>\n",
       "      <td>11.0</td>\n",
       "      <td>181.0</td>\n",
       "      <td>0.660377</td>\n",
       "      <td>1.0</td>\n",
       "      <td>0.775701</td>\n",
       "      <td>4.0</td>\n",
       "      <td>3.0</td>\n",
       "      <td>1.0</td>\n",
       "      <td>...</td>\n",
       "      <td>0.136364</td>\n",
       "      <td>1.00</td>\n",
       "      <td>0.000000</td>\n",
       "      <td>0.00</td>\n",
       "      <td>0.000000</td>\n",
       "      <td>0.3</td>\n",
       "      <td>1.0</td>\n",
       "      <td>0.2</td>\n",
       "      <td>1.0</td>\n",
       "      <td>0</td>\n",
       "    </tr>\n",
       "    <tr>\n",
       "      <th>3</th>\n",
       "      <td>http://mashable.com/2013/11/21/these-are-the-m...</td>\n",
       "      <td>413.0</td>\n",
       "      <td>12.0</td>\n",
       "      <td>781.0</td>\n",
       "      <td>0.497409</td>\n",
       "      <td>1.0</td>\n",
       "      <td>0.677350</td>\n",
       "      <td>10.0</td>\n",
       "      <td>3.0</td>\n",
       "      <td>1.0</td>\n",
       "      <td>...</td>\n",
       "      <td>0.100000</td>\n",
       "      <td>1.00</td>\n",
       "      <td>-0.195701</td>\n",
       "      <td>-0.40</td>\n",
       "      <td>-0.071429</td>\n",
       "      <td>0.0</td>\n",
       "      <td>0.0</td>\n",
       "      <td>0.5</td>\n",
       "      <td>0.0</td>\n",
       "      <td>0</td>\n",
       "    </tr>\n",
       "    <tr>\n",
       "      <th>4</th>\n",
       "      <td>http://mashable.com/2014/02/11/parking-ticket-...</td>\n",
       "      <td>331.0</td>\n",
       "      <td>8.0</td>\n",
       "      <td>177.0</td>\n",
       "      <td>0.685714</td>\n",
       "      <td>1.0</td>\n",
       "      <td>0.830357</td>\n",
       "      <td>3.0</td>\n",
       "      <td>2.0</td>\n",
       "      <td>1.0</td>\n",
       "      <td>...</td>\n",
       "      <td>0.100000</td>\n",
       "      <td>0.55</td>\n",
       "      <td>-0.175000</td>\n",
       "      <td>-0.25</td>\n",
       "      <td>-0.100000</td>\n",
       "      <td>0.0</td>\n",
       "      <td>0.0</td>\n",
       "      <td>0.5</td>\n",
       "      <td>0.0</td>\n",
       "      <td>0</td>\n",
       "    </tr>\n",
       "  </tbody>\n",
       "</table>\n",
       "<p>5 rows × 61 columns</p>\n",
       "</div>"
      ],
      "text/plain": [
       "                                                 url  timedelta  \\\n",
       "0  http://mashable.com/2014/12/10/cia-torture-rep...       28.0   \n",
       "1  http://mashable.com/2013/10/18/bitlock-kicksta...      447.0   \n",
       "2  http://mashable.com/2013/07/24/google-glass-po...      533.0   \n",
       "3  http://mashable.com/2013/11/21/these-are-the-m...      413.0   \n",
       "4  http://mashable.com/2014/02/11/parking-ticket-...      331.0   \n",
       "\n",
       "   n_tokens_title  n_tokens_content  n_unique_tokens  n_non_stop_words  \\\n",
       "0             9.0             188.0         0.732620               1.0   \n",
       "1             7.0             297.0         0.653199               1.0   \n",
       "2            11.0             181.0         0.660377               1.0   \n",
       "3            12.0             781.0         0.497409               1.0   \n",
       "4             8.0             177.0         0.685714               1.0   \n",
       "\n",
       "   n_non_stop_unique_tokens  num_hrefs  num_self_hrefs  num_imgs  ...  \\\n",
       "0                  0.844262        5.0             1.0       1.0  ...   \n",
       "1                  0.815789        9.0             4.0       1.0  ...   \n",
       "2                  0.775701        4.0             3.0       1.0  ...   \n",
       "3                  0.677350       10.0             3.0       1.0  ...   \n",
       "4                  0.830357        3.0             2.0       1.0  ...   \n",
       "\n",
       "   min_positive_polarity  max_positive_polarity  avg_negative_polarity  \\\n",
       "0               0.200000                   0.80              -0.487500   \n",
       "1               0.160000                   0.50              -0.135340   \n",
       "2               0.136364                   1.00               0.000000   \n",
       "3               0.100000                   1.00              -0.195701   \n",
       "4               0.100000                   0.55              -0.175000   \n",
       "\n",
       "   min_negative_polarity  max_negative_polarity  title_subjectivity  \\\n",
       "0                  -0.60              -0.250000                 0.9   \n",
       "1                  -0.40              -0.050000                 0.1   \n",
       "2                   0.00               0.000000                 0.3   \n",
       "3                  -0.40              -0.071429                 0.0   \n",
       "4                  -0.25              -0.100000                 0.0   \n",
       "\n",
       "   title_sentiment_polarity  abs_title_subjectivity  \\\n",
       "0                       0.8                     0.4   \n",
       "1                      -0.1                     0.4   \n",
       "2                       1.0                     0.2   \n",
       "3                       0.0                     0.5   \n",
       "4                       0.0                     0.5   \n",
       "\n",
       "   abs_title_sentiment_polarity  Popular  \n",
       "0                           0.8        1  \n",
       "1                           0.1        0  \n",
       "2                           1.0        0  \n",
       "3                           0.0        0  \n",
       "4                           0.0        0  \n",
       "\n",
       "[5 rows x 61 columns]"
      ]
     },
     "execution_count": 27,
     "metadata": {},
     "output_type": "execute_result"
    }
   ],
   "source": [
    "# Lectura de la información de archivo .csv\n",
    "df = pd.read_csv('https://raw.githubusercontent.com/davidzarruk/MIAD_ML_NLP_2023/main/datasets/mashable.csv', index_col=0)\n",
    "df.head()"
   ]
  },
  {
   "cell_type": "code",
   "execution_count": 28,
   "metadata": {},
   "outputs": [
    {
     "data": {
      "text/plain": [
       "0.5"
      ]
     },
     "execution_count": 28,
     "metadata": {},
     "output_type": "execute_result"
    }
   ],
   "source": [
    "# Definición variable de interes y variables predictoras\n",
    "X = df.drop(['url', 'Popular'], axis=1)\n",
    "y = df['Popular']\n",
    "y.mean()"
   ]
  },
  {
   "cell_type": "code",
   "execution_count": 29,
   "metadata": {},
   "outputs": [],
   "source": [
    "# División de la muestra en set de entrenamiento y prueba\n",
    "from sklearn.model_selection import train_test_split\n",
    "X_train, X_test, y_train, y_test = train_test_split(X, y, random_state=1)"
   ]
  },
  {
   "cell_type": "markdown",
   "metadata": {},
   "source": [
    "### Punto 6 - Árbol de decisión y regresión logística\n",
    "En la celda 6 construya un árbol de decisión y una regresión logística. Para el árbol calibre al menos un parámetro y evalúe el desempeño de cada modelo usando las métricas de Accuracy y F1-Score."
   ]
  },
  {
   "cell_type": "code",
   "execution_count": 30,
   "metadata": {},
   "outputs": [],
   "source": [
    "# Celda 6\n",
    "# Adecuando los scripts de los notebooks del curso para el caso en particular\n",
    "# Lista de valores para calibrar el criterio de parada de máxima profundidad (max_depth)\n",
    "max_depth_range = range(1, 50)\n",
    "\n",
    "# Lista para guardar los valores del RMSE para cada valor de máxima profundidad (max_depth)\n",
    "accuracy_scores = []\n",
    "\n",
    "# Importación de modelos de sklearn \n",
    "from sklearn.model_selection import cross_val_score\n",
    "from sklearn.tree import DecisionTreeClassifier\n",
    "\n",
    "# Loop para obtener el desempeño del modelo de acuerdo con la máxima profundidad\n",
    "for depth in max_depth_range:\n",
    "    # Definición del árbol de decisión usando DecisionTreeClassifier de la libreria sklearn\n",
    "    clf = DecisionTreeClassifier(max_depth=depth, random_state=1)\n",
    "    accuracy_scores.append(cross_val_score(clf, X_train, y_train, cv=10, scoring='accuracy').mean())"
   ]
  },
  {
   "cell_type": "code",
   "execution_count": 31,
   "metadata": {},
   "outputs": [
    {
     "data": {
      "text/plain": [
       "Text(0, 0.5, 'Accuracy')"
      ]
     },
     "execution_count": 31,
     "metadata": {},
     "output_type": "execute_result"
    },
    {
     "data": {
      "image/png": "[encoded data removed]",
      "text/plain": [
       "<Figure size 640x480 with 1 Axes>"
      ]
     },
     "metadata": {},
     "output_type": "display_data"
    }
   ],
   "source": [
    "# Gráfica max_depth versus RMSE (error del modelo)\n",
    "plt.plot(max_depth_range, accuracy_scores)\n",
    "plt.xlabel('max_depth')\n",
    "plt.ylabel('Accuracy')"
   ]
  },
  {
   "cell_type": "code",
   "execution_count": 32,
   "metadata": {},
   "outputs": [
    {
     "data": {
      "text/plain": [
       "(0.6308888888888888, 2)"
      ]
     },
     "execution_count": 32,
     "metadata": {},
     "output_type": "execute_result"
    }
   ],
   "source": [
    "# Mejor accuracy (desempeño del modelo) y su correspondiente max_depth\n",
    "sorted(zip(accuracy_scores, max_depth_range))[::-1][0]\n",
    "# La profundidad será de 2"
   ]
  },
  {
   "cell_type": "code",
   "execution_count": 33,
   "metadata": {},
   "outputs": [
    {
     "data": {
      "text/plain": [
       "DecisionTreeClassifier(max_depth=2, random_state=1)"
      ]
     },
     "execution_count": 33,
     "metadata": {},
     "output_type": "execute_result"
    }
   ],
   "source": [
    "# Se ajusta el arbol con max_depth=2 a los datos de entrenamiento\n",
    "clf = DecisionTreeClassifier(max_depth=2, random_state=1)\n",
    "clf.fit(X_train, y_train)"
   ]
  },
  {
   "cell_type": "code",
   "execution_count": 34,
   "metadata": {},
   "outputs": [
    {
     "data": {
      "text/plain": [
       "(0.6448598130841121, 0.6453333333333333)"
      ]
     },
     "execution_count": 34,
     "metadata": {},
     "output_type": "execute_result"
    }
   ],
   "source": [
    "# Se obtienen el F1 Score y el Accuracy del modelo para la muestra de evaluación\n",
    "y_pred = clf.predict(X_test)\n",
    "metrics.f1_score(y_pred, y_test), metrics.accuracy_score(y_pred, y_test)"
   ]
  },
  {
   "cell_type": "code",
   "execution_count": 35,
   "metadata": {},
   "outputs": [
    {
     "data": {
      "text/plain": [
       "(0.628956228956229, 0.6326666666666667)"
      ]
     },
     "execution_count": 35,
     "metadata": {},
     "output_type": "execute_result"
    }
   ],
   "source": [
    "# Se obtienen el F1 Score y el Accuracy del modelo para la muestra de entrenamiento\n",
    "y_pred = clf.predict(X_train)\n",
    "metrics.f1_score(y_pred, y_train), metrics.accuracy_score(y_pred, y_train)"
   ]
  },
  {
   "cell_type": "code",
   "execution_count": 36,
   "metadata": {},
   "outputs": [
    {
     "data": {
      "text/plain": [
       "count    10.000000\n",
       "mean      0.646667\n",
       "std       0.035970\n",
       "min       0.593333\n",
       "25%       0.618333\n",
       "50%       0.653333\n",
       "75%       0.665000\n",
       "max       0.713333\n",
       "dtype: float64"
      ]
     },
     "execution_count": 36,
     "metadata": {},
     "output_type": "execute_result"
    }
   ],
   "source": [
    "# Impresión de resultados de desemepeño del árbol de decisión en muestra de evaluación\n",
    "pd.Series(cross_val_score(clf, X_test, y_test, cv=10)).describe()"
   ]
  },
  {
   "cell_type": "code",
   "execution_count": 37,
   "metadata": {},
   "outputs": [
    {
     "data": {
      "text/plain": [
       "count    10.000000\n",
       "mean      0.630889\n",
       "std       0.014304\n",
       "min       0.606667\n",
       "25%       0.624444\n",
       "50%       0.634444\n",
       "75%       0.640000\n",
       "max       0.653333\n",
       "dtype: float64"
      ]
     },
     "execution_count": 37,
     "metadata": {},
     "output_type": "execute_result"
    }
   ],
   "source": [
    "# Impresión de resultados de desemepeño del árbol de decisión en muestra de entrenamiento\n",
    "pd.Series(cross_val_score(clf, X_train, y_train, cv=10)).describe()"
   ]
  },
  {
   "cell_type": "code",
   "execution_count": 38,
   "metadata": {},
   "outputs": [
    {
     "data": {
      "text/plain": [
       "LogisticRegression(random_state=1)"
      ]
     },
     "execution_count": 38,
     "metadata": {},
     "output_type": "execute_result"
    }
   ],
   "source": [
    "# Crear y ajustar el modelo de regresión logística\n",
    "lr = LogisticRegression(random_state=1)\n",
    "lr.fit(X_train, y_train)"
   ]
  },
  {
   "cell_type": "code",
   "execution_count": 39,
   "metadata": {},
   "outputs": [
    {
     "data": {
      "text/plain": [
       "(0.6106254203093476, 0.614)"
      ]
     },
     "execution_count": 39,
     "metadata": {},
     "output_type": "execute_result"
    }
   ],
   "source": [
    "# Se obtienen el F1 Score y el Accuracy del modelo para la muestra de evaluación\n",
    "lr_pred = lr.predict(X_test)\n",
    "metrics.f1_score(lr_pred, y_test), metrics.accuracy_score(lr_pred, y_test)"
   ]
  },
  {
   "cell_type": "code",
   "execution_count": 40,
   "metadata": {},
   "outputs": [
    {
     "data": {
      "text/plain": [
       "(0.6053466243769822, 0.6128888888888889)"
      ]
     },
     "execution_count": 40,
     "metadata": {},
     "output_type": "execute_result"
    }
   ],
   "source": [
    "# Se obtienen el F1 Score y el Accuracy del modelo para la muestra de entrenamiento\n",
    "lr_pred = lr.predict(X_train)\n",
    "metrics.f1_score(y_train,lr_pred), metrics.accuracy_score(lr_pred, y_train)"
   ]
  },
  {
   "cell_type": "markdown",
   "metadata": {},
   "source": [
    "Tanto el arbol como la regresión tienen un desempeño moderado en la tarea de clasificación, ligeramente mejor que el azar. \n",
    "\n",
    "El desempeño del árbol en terminos de F1 Score y Accuracy Score para el conjunto de evaluación es (0.6448598130841121, 0.6453333333333333), mientras que el de la regresión logística es de (0.6106254203093476, 0.614). \n",
    "\n",
    "Para el conjunto de entrenamiento el F1 score y el accuracy del árbol son (0.628956228956229, 0.6326666666666667) mientras que para la regresión logística es de (0.6053466243769822, 0.6128888888888889).\n",
    "\n",
    "El desempeño del arbol es ligéramente mejor que la regresión logística pues presenta un mayor F1 Score y mayor accuracy. El desempeño de las muestras de entrenamiento, como son ligeramente menores para ambos modelos esto podría sugerir que no hay sobreajuste en los modelos."
   ]
  },
  {
   "cell_type": "markdown",
   "metadata": {},
   "source": [
    "### Punto 7 - Votación Mayoritaria\n",
    "En la celda 7 elabore un esamble con la metodología de **Votación mayoritaria** compuesto por 300 muestras bagged para cada uno de los siguientes escenarios:\n",
    "\n",
    "-100 árboles de decisión donde max_depth tome un valor de su elección\\\n",
    "-100 árboles de decisión donde min_samples_leaf tome un valor de su elección\\\n",
    "-100 regresiones logísticas\n",
    "\n",
    "Evalúe cada uno de los tres modelos de manera independiente utilizando las métricas de Accuracy y F1-Score, luego evalúe el ensamble de modelos y compare los resultados. "
   ]
  },
  {
   "cell_type": "code",
   "execution_count": 41,
   "metadata": {},
   "outputs": [],
   "source": [
    "# Celda 7\n",
    "from sklearn.ensemble import BaggingClassifier\n",
    "# 1ra muestra bagger con max_Depth =2 tal como nos dió más arriba\n",
    "clf1 = BaggingClassifier(base_estimator=DecisionTreeClassifier(max_depth=2), n_estimators=100, bootstrap=True,\n",
    "                        random_state=42, oob_score=True)\n",
    "#2da muestra con min_samples_leaf=40, no se escogió ni tan grande ni tan pequeño para no causar sobreajuste\n",
    "clf2 = BaggingClassifier(base_estimator=DecisionTreeClassifier(min_samples_leaf=40), n_estimators=100, bootstrap=True,\n",
    "                        random_state=42, oob_score=True)\n",
    "#3ra muestra con regresiones logísticas\n",
    "clf3 = BaggingClassifier(base_estimator=LogisticRegression(), n_estimators=100, bootstrap=True,\n",
    "                        random_state=42, oob_score=True)"
   ]
  },
  {
   "cell_type": "code",
   "execution_count": 42,
   "metadata": {},
   "outputs": [
    {
     "data": {
      "text/plain": [
       "BaggingClassifier(base_estimator=DecisionTreeClassifier(max_depth=2),\n",
       "                  n_estimators=100, oob_score=True, random_state=42)"
      ]
     },
     "execution_count": 42,
     "metadata": {},
     "output_type": "execute_result"
    }
   ],
   "source": [
    "clf1.fit(X_train, y_train)"
   ]
  },
  {
   "cell_type": "code",
   "execution_count": 43,
   "metadata": {},
   "outputs": [
    {
     "data": {
      "text/plain": [
       "BaggingClassifier(base_estimator=DecisionTreeClassifier(min_samples_leaf=40),\n",
       "                  n_estimators=100, oob_score=True, random_state=42)"
      ]
     },
     "execution_count": 43,
     "metadata": {},
     "output_type": "execute_result"
    }
   ],
   "source": [
    "clf2.fit(X_train, y_train)"
   ]
  },
  {
   "cell_type": "code",
   "execution_count": 44,
   "metadata": {},
   "outputs": [
    {
     "data": {
      "text/plain": [
       "BaggingClassifier(base_estimator=LogisticRegression(), n_estimators=100,\n",
       "                  oob_score=True, random_state=42)"
      ]
     },
     "execution_count": 44,
     "metadata": {},
     "output_type": "execute_result"
    }
   ],
   "source": [
    "clf3.fit(X_train, y_train)"
   ]
  },
  {
   "cell_type": "code",
   "execution_count": 45,
   "metadata": {},
   "outputs": [
    {
     "name": "stdout",
     "output_type": "stream",
     "text": [
      "Accuracy primer modelo 0.6446666666666667\n",
      "Accuracy segundo modelo 0.662\n",
      "Accuracy tercer modelo 0.6173333333333333\n"
     ]
    }
   ],
   "source": [
    "print(\"Accuracy primer modelo\", metrics.accuracy_score(y_test, clf1.predict(X_test)))\n",
    "print(\"Accuracy segundo modelo\", metrics.accuracy_score(y_test, clf2.predict(X_test)))\n",
    "print(\"Accuracy tercer modelo\", metrics.accuracy_score(y_test, clf3.predict(X_test)))"
   ]
  },
  {
   "cell_type": "code",
   "execution_count": 46,
   "metadata": {},
   "outputs": [
    {
     "name": "stdout",
     "output_type": "stream",
     "text": [
      "Accuracy primer modelo - entrenamiento 0.6337777777777778\n",
      "Accuracy segundo modelo - entrenamiento 0.7253333333333334\n",
      "Accuracy tercer modelo - entrenamiento 0.6188888888888889\n"
     ]
    }
   ],
   "source": [
    "print(\"Accuracy primer modelo - entrenamiento\", metrics.accuracy_score(y_train, clf1.predict(X_train)))\n",
    "print(\"Accuracy segundo modelo - entrenamiento\", metrics.accuracy_score(y_train, clf2.predict(X_train)))\n",
    "print(\"Accuracy tercer modelo - entrenamiento\", metrics.accuracy_score(y_train, clf3.predict(X_train)))"
   ]
  },
  {
   "cell_type": "code",
   "execution_count": 47,
   "metadata": {},
   "outputs": [
    {
     "name": "stdout",
     "output_type": "stream",
     "text": [
      "F1 score primer modelo 0.6439545758183033\n",
      "F1 score segundo modelo 0.661322645290581\n",
      "F1 score tercer modelo 0.6126855600539811\n"
     ]
    }
   ],
   "source": [
    "print(\"F1 score primer modelo\", metrics.f1_score(y_test, clf1.predict(X_test)))\n",
    "print(\"F1 score segundo modelo\", metrics.f1_score(y_test, clf2.predict(X_test)))\n",
    "print(\"F1 score tercer modelo\", metrics.f1_score(y_test, clf3.predict(X_test)))"
   ]
  },
  {
   "cell_type": "code",
   "execution_count": 48,
   "metadata": {},
   "outputs": [
    {
     "name": "stdout",
     "output_type": "stream",
     "text": [
      "F1 score primer modelo - entrenamiento 0.6296629213483146\n",
      "F1 score segundo modelo - entrenamiento 0.7241071428571428\n",
      "F1 score tercer modelo - entrenamiento 0.6090722589468884\n"
     ]
    }
   ],
   "source": [
    "print(\"F1 score primer modelo - entrenamiento\", metrics.f1_score(y_train, clf1.predict(X_train)))\n",
    "print(\"F1 score segundo modelo - entrenamiento\", metrics.f1_score(y_train, clf2.predict(X_train)))\n",
    "print(\"F1 score tercer modelo - entrenamiento\", metrics.f1_score(y_train, clf3.predict(X_train)))"
   ]
  },
  {
   "cell_type": "markdown",
   "metadata": {},
   "source": [
    "De manera independiente se evaluaron los modelos y se obtuvieron los resultados ilustrados encima, de manera que:\n",
    "Para el conjunto de evaluación: \n",
    "La accuracy fue mayor para el segundo modelo con 0.662, seguido del primer modelo con 0.644 y luego el tercero con un accuracy de 0.617. El F1 score en estos modelos fue similar, de manera que el segundo modelo fue quien presentó el mayor con 0.661 seguido del primer modelo con 0.643 y luego el tercero con 0.612.\n",
    "Para el conjunto de entrenamiento:\n",
    "La accuracy fue mayor para el segundo modelo con 0.725, seguido del primer modelo con 0.633 y luego el tercer modelo con 0.618. El f1 score fue similar, donde el segundo modelo presentó el mayor con 0.724, seguido del primero con 0.629 y por último el tercero con 0.609.\n",
    "\n",
    "Estos resultados sugieren que el segundo modelo es el que tiene el mejor desempeño respecto a accuracy y F1 score.\n",
    "Por otro lado, parece haber sobreajuste en el segundo modelo, pues el conjunto de entrenamiento tiene mejor desempeño respecto al conjunto de evaluación, con mayor F1 score y mayor accuracy. El primer modelo no parece presentar este problema, pero el tercero tiene también una ligera diferencia en tanto el accuracy del conjunto de entrenamiento es ligeramente mayor respecto al conjunto de evaluación.\n",
    "\n",
    "Para el segundo modelo se utilizó un valor de 40 en el parámetro min_samples_leaf que es el número mínimo de muestras en cada hoja del arbol de decisión, porque escoger un valor muy pequeño podría llevar a un modelo más complejo y propenso a sobreajuste, y uno muy alto podría convertir el modelo en algo muy simple que no capturara la complejidar de los datos, de manera que el criterio fue ese, 40, porque se consideró un punto medio entre ambos extremos.\n",
    "\n",
    "#### Ahora, se ensamblarán con el metodo de votación mayoritaria ####"
   ]
  },
  {
   "cell_type": "code",
   "execution_count": 49,
   "metadata": {},
   "outputs": [
    {
     "name": "stdout",
     "output_type": "stream",
     "text": [
      "F1 score ensamble votación mayoritaria 0.6473364801078894\n",
      "Accuracy ensamble votación mayoritaria 0.6513333333333333\n",
      "F1 score ensamble votación mayoritaria - train 0.6622727272727272\n",
      "Accuracy ensamble votación mayoritaria - train 0.6697777777777778\n"
     ]
    }
   ],
   "source": [
    "#Ahora para ensamblarlas se adecúa el código de los notebooks del curso con los 3 modelos en cuestión\n",
    "\n",
    "# Realizar la predicción con los tres modelos\n",
    "y_pred_model1 = clf1.predict(X_test)\n",
    "y_pred_model2 = clf2.predict(X_test)\n",
    "y_pred_model3 = clf3.predict(X_test)\n",
    "\n",
    "# Obtener la votación mayoritaria\n",
    "y_pred33 = (y_pred_model1 + y_pred_model2 + y_pred_model3 >= 2).astype(np.int)\n",
    "\n",
    "# Realizar la predicción con los tres modelos - train\n",
    "y_pred_model1t = clf1.predict(X_train)\n",
    "y_pred_model2t = clf2.predict(X_train)\n",
    "y_pred_model3t = clf3.predict(X_train)\n",
    "\n",
    "# Obtener la votación mayoritaria - train\n",
    "y_pred33t = (y_pred_model1t + y_pred_model2t + y_pred_model3t >= 2).astype(np.int)\n",
    "\n",
    "# Evaluar el desempeño\n",
    "print(\"F1 score ensamble votación mayoritaria\", metrics.f1_score(y_test, y_pred33))\n",
    "print(\"Accuracy ensamble votación mayoritaria\", metrics.accuracy_score(y_test, y_pred33))\n",
    "print(\"F1 score ensamble votación mayoritaria - train\", metrics.f1_score(y_train, y_pred33t))\n",
    "print(\"Accuracy ensamble votación mayoritaria - train\", metrics.accuracy_score(y_train, y_pred33t))"
   ]
  },
  {
   "cell_type": "markdown",
   "metadata": {},
   "source": [
    "Se puede observar que el modelo de ensamble con votación mayoritaria presenta un desempeño regular, donde su accuracy es levemente superior al azar. \n",
    "\n",
    "Se observa que para el conjunto de evaluación eñ accuracy es de 0.651 y el F1 score es de 0.647. Mientras que en el conjunto de entrenamiento, el accuracy es de 0.669 y el F1 score es de 0.662.\n",
    "\n",
    "Estos resultados sugieren que el modelo tiene mejor desempeño en la muestra de entrenamiento, ya que presenta mayor accuracy y F1 score, de manera que se observa un ligero sobreajuste en el modelo.\n",
    "\n",
    "Comparando con los modelos del punto anterior, para el conjunto de evaluación presenta un accuracy bueno, situandolo después del segundo modelo de mayor a menor, y en términos del F1 score pasa lo mismo, el segundo modelo sigue siendo el modelo con mejor desempeño en este conjunto de datos.\n",
    "Respecto al conjunto de entrenamiento, sucede exactamente lo mismo.\n",
    "\n",
    "En ese orden de ideas se puede decir que el segundo modelo tiene mejor desempeño que este modelo ensamblado aunque ambos presentan un ligero sobreajuste."
   ]
  },
  {
   "cell_type": "markdown",
   "metadata": {},
   "source": [
    "### Punto 8 - Votación Ponderada\n",
    "En la celda 8 elabore un ensamble con la metodología de **Votación ponderada** compuesto por 300 muestras bagged para los mismos tres escenarios del punto 7. Evalúe los modelos utilizando las métricas de Accuracy y F1-Score"
   ]
  },
  {
   "cell_type": "code",
   "execution_count": 50,
   "metadata": {},
   "outputs": [
    {
     "name": "stdout",
     "output_type": "stream",
     "text": [
      "F1 score ensamble votación ponderada 0.6734966592427617\n",
      "Accuracy ensamble votación ponderada 0.5113333333333333\n",
      "F1 score ensamble votación ponderada - train 0.6695535314319846\n",
      "Accuracy ensamble votación ponderada - train 0.5082222222222222\n"
     ]
    }
   ],
   "source": [
    "# Ajustando el codigo de los notebooks con el problema en cuestión se obtiene lo siguiente\n",
    "# Obtención de los pesos alpha de cada modelo de acuerdo al error OOB\n",
    "# Para el conjunto de evaluación\n",
    "errors = np.zeros((3, clf1.n_estimators))\n",
    "y_pred_all_ = np.zeros((X_test.shape[0], 3, clf1.n_estimators))\n",
    "\n",
    "for j, clf in enumerate([clf1, clf2, clf3]):\n",
    "    for i in range(clf.n_estimators):\n",
    "        oob_sample = ~clf.estimators_samples_[i]\n",
    "        y_pred_ = clf.estimators_[i].predict(X_train.values[oob_sample])\n",
    "        errors[j, i] = metrics.accuracy_score(y_pred_, y_train.values[oob_sample])\n",
    "        y_pred_all_[:, j, i] = clf.estimators_[i].predict(X_test)\n",
    "alphas = (1 - errors) / (1 - errors).sum(axis=0)\n",
    "y_pred = (np.sum(y_pred_all_ * alphas, axis=(1, 2)) >= 0.5).astype(np.int)\n",
    "\n",
    "# Ahora para el conjunto de entrenamiento se realiza lo mismo\n",
    "errors = np.zeros((3, clf1.n_estimators))\n",
    "y_pred_all_ = np.zeros((X_train.shape[0], 3, clf1.n_estimators))\n",
    "\n",
    "for j, clf in enumerate([clf1, clf2, clf3]):\n",
    "    for i in range(clf.n_estimators):\n",
    "        oob_sample = ~clf.estimators_samples_[i]\n",
    "        y_pred_ = clf.estimators_[i].predict(X_train.values[oob_sample])\n",
    "        errors[j, i] = metrics.accuracy_score(y_pred_, y_train.values[oob_sample])\n",
    "        y_pred_all_[:, j, i] = clf.estimators_[i].predict(X_train)\n",
    "    \n",
    "alphas = (1 - errors) / (1 - errors).sum(axis=0)\n",
    "\n",
    "y_train_pred = (np.sum(y_pred_all_ * alphas, axis=(1, 2)) >= 0.5).astype(np.int)\n",
    "\n",
    "# Evaluar el desempeño\n",
    "print(\"F1 score ensamble votación ponderada\", metrics.f1_score(y_test, y_pred))\n",
    "print(\"Accuracy ensamble votación ponderada\", metrics.accuracy_score(y_test, y_pred))\n",
    "print(\"F1 score ensamble votación ponderada - train\", metrics.f1_score(y_train, y_train_pred))\n",
    "print(\"Accuracy ensamble votación ponderada - train\", metrics.accuracy_score(y_train, y_train_pred))"
   ]
  },
  {
   "cell_type": "markdown",
   "metadata": {},
   "source": [
    "Se puede observar que con la metodología votación ponderada, se obtuvo un resultado levemente mayor en desempeño de F1 score y accuracy para los datos de evaluación respecto a los datos de entrenamiento, no hay indicios de sobreajuste en ese aspecto. Aunque la diferencia es mínima.\n",
    "\n",
    "El modelo tiene un F1 score medianamente bueno con 0.67 en el conjunto de evaluación y 0.66 en el conjunto de entrenamiento, respecto a los demás modelos evaluados anteriormente es el que presenta el mayor F1 score en el conjunto de evaluación, y el segundo mayor en el conjunto de train solo después del segundo modelo.\n",
    "Pero, tiene una accuracy bastante regular, muy cercano al azar. "
   ]
  },
  {
   "cell_type": "markdown",
   "metadata": {},
   "source": [
    "### Punto 9 - Comparación y análisis de resultados\n",
    "En la celda 9 comente sobre los resultados obtenidos con las metodologías usadas en los puntos 7 y 8, compare los resultados y enuncie posibles ventajas o desventajas de cada una de ellas."
   ]
  },
  {
   "cell_type": "markdown",
   "metadata": {},
   "source": [
    "De las ventajas de los modelos de ensamblaje tal y como se vio en clase es que la probabilidad de que el ensamblaje sea correcto es mayor a la probabilidad de que cada uno de los modelos sea correcto. Para el ensamblaje con votación mayoritaria el ensamblaje final predice de acuerdo a la clase que obtuvo la mayor cantidad de votos. Y para la votación ponderada, para cada clasificador, el peso de su predicción se pondera por un valor alfa. El valor alfa depende del desempeño del modelo, de qué tan correcto predice.\n",
    "\n",
    "Ambos modelos tienen ventajas pero en términos de desventajas se puede decir que el modelo de votación ponderada puede ser complejo en tanto se deben calibrar los pesos de cada modelo para la ponderación, considero que finalmente el objetivo es reducir los costos operacionales y si se puede llegar a definir más claramente esta métrica, todo podría ser beneficioso para este tipo de modelos.\n",
    "\n",
    "Sería bueno conocer casos más parecidos para la realización de estos ejercicios puesto que para muchas personas puede ser un tema completamente nuevo, y para una mejor pedagogía sería claro aplicar lo que se quiere en un conjunto A de datos, para luego pasar a replicarlo a otro conjunto B entendiendo bien qué se ejecuta en cada línea de código.\n",
    "\n",
    "Si bien el desempeño de los modelos ensamblados no fue claramente mejor que los otros, esto puede deberse a la calibración de los modelos y la forma en la que se definieron, pero en términos generales, estos ensamblajes tienen un mejor desempeño y con un conjunto de datos y valores más claros, se puede observar más claramente esta tendencia.\n",
    "\n",
    "En el punto 7 y 8 se obtuvieron los siguientes resultados:\n",
    "# Modelos individuales #\n",
    "Accuracy primer modelo 0.6446666666666667\n",
    "\n",
    "Accuracy segundo modelo 0.662\n",
    "\n",
    "Accuracy tercer modelo 0.6173333333333333\n",
    "\n",
    "Accuracy primer modelo - entrenamiento 0.6337777777777778\n",
    "\n",
    "Accuracy segundo modelo - entrenamiento 0.7253333333333334\n",
    "\n",
    "Accuracy tercer modelo - entrenamiento 0.6188888888888889\n",
    "\n",
    "F1 score primer modelo 0.6439545758183033\n",
    "\n",
    "F1 score segundo modelo 0.661322645290581\n",
    "\n",
    "F1 score tercer modelo 0.6126855600539811\n",
    "\n",
    "F1 score primer modelo - entrenamiento 0.6296629213483146\n",
    "\n",
    "F1 score segundo modelo - entrenamiento 0.7241071428571428\n",
    "\n",
    "F1 score tercer modelo - entrenamiento 0.6090722589468884\n",
    "\n",
    "\n",
    "## Modelos ensamblados ##\n",
    "#### Votación mayoritaria ####\n",
    "\n",
    "F1 score ensamble votación mayoritaria 0.6473364801078894\n",
    "\n",
    "Accuracy ensamble votación mayoritaria 0.6513333333333333\n",
    "\n",
    "F1 score ensamble votación mayoritaria - train 0.6622727272727272\n",
    "\n",
    "Accuracy ensamble votación mayoritaria - train 0.6697777777777778\n",
    "\n",
    "#### Votación ponderada ####\n",
    "\n",
    "F1 score ensamble votación ponderada 0.6734966592427617\n",
    "\n",
    "Accuracy ensamble votación ponderada 0.5113333333333333\n",
    "\n",
    "F1 score ensamble votación ponderada - train 0.6695535314319846\n",
    "\n",
    "Accuracy ensamble votación ponderada - train 0.5082222222222222"
   ]
  }
 ],
 "metadata": {
  "kernelspec": {
   "display_name": "Python 3 (ipykernel)",
   "language": "python",
   "name": "python3"
  },
  "language_info": {
   "codemirror_mode": {
    "name": "ipython",
    "version": 3
   },
   "file_extension": ".py",
   "mimetype": "text/x-python",
   "name": "python",
   "nbconvert_exporter": "python",
   "pygments_lexer": "ipython3",
   "version": "3.9.13"
  }
 },
 "nbformat": 4,
 "nbformat_minor": 4
}
