{
 "cells": [
  {
   "cell_type": "markdown",
   "metadata": {},
   "source": [
    "![image info](https://raw.githubusercontent.com/albahnsen/MIAD_ML_and_NLP/main/images/banner_1.png)"
   ]
  },
  {
   "cell_type": "markdown",
   "metadata": {},
   "source": [
    "# Taller: Tokenización de textos  \n",
    "\n",
    "En este taller podrán poner en práctica sus conocimientos sobre preprocesamiento de texto (tokenización). El taller está constituido por 5 puntos, en los cuales deberan seguir las intrucciones de cada numeral para su desarrollo."
   ]
  },
  {
   "cell_type": "markdown",
   "metadata": {},
   "source": [
    "## Datos detección de toxicidad en comentarios\n",
    "\n",
    "En este taller se usará el conjunto de datos de detección de toxicidad en comentarios de la base de datos de Kaggle. Cada observación es un comentario que tiene como variable objetivo (target) la probabilidad de ser un comentario tóxico. El objetivo es predecir la toxicidad de cada comentario. Para más detalles pueden visitar el siguiente enlace: [datos](https://www.kaggle.com/c/jigsaw-unintended-bias-in-toxicity-classification/data)."
   ]
  },
  {
   "cell_type": "code",
   "execution_count": 1,
   "metadata": {},
   "outputs": [],
   "source": [
    "import warnings\n",
    "warnings.filterwarnings('ignore')"
   ]
  },
  {
   "cell_type": "code",
   "execution_count": 34,
   "metadata": {},
   "outputs": [],
   "source": [
    "# Importación librerías\n",
    "import pandas as pd\n",
    "import numpy as np\n",
    "import scipy as sp\n",
    "from sklearn.model_selection import train_test_split, cross_val_score\n",
    "from sklearn.feature_extraction.text import CountVectorizer, TfidfVectorizer\n",
    "from sklearn import metrics\n",
    "%matplotlib inline\n",
    "from sklearn.ensemble import RandomForestRegressor\n",
    "from sklearn.metrics import mean_squared_error\n",
    "from sklearn.tree import DecisionTreeRegressor\n",
    "import matplotlib.pyplot as plt"
   ]
  },
  {
   "cell_type": "code",
   "execution_count": 3,
   "metadata": {},
   "outputs": [
    {
     "data": {
      "text/html": [
       "<div>\n",
       "<style scoped>\n",
       "    .dataframe tbody tr th:only-of-type {\n",
       "        vertical-align: middle;\n",
       "    }\n",
       "\n",
       "    .dataframe tbody tr th {\n",
       "        vertical-align: top;\n",
       "    }\n",
       "\n",
       "    .dataframe thead th {\n",
       "        text-align: right;\n",
       "    }\n",
       "</style>\n",
       "<table border=\"1\" class=\"dataframe\">\n",
       "  <thead>\n",
       "    <tr style=\"text-align: right;\">\n",
       "      <th></th>\n",
       "      <th>id</th>\n",
       "      <th>comment_text</th>\n",
       "      <th>target</th>\n",
       "    </tr>\n",
       "  </thead>\n",
       "  <tbody>\n",
       "    <tr>\n",
       "      <th>0</th>\n",
       "      <td>6101457</td>\n",
       "      <td>What are you talking about? What group do Pete...</td>\n",
       "      <td>0.0</td>\n",
       "    </tr>\n",
       "    <tr>\n",
       "      <th>1</th>\n",
       "      <td>5342103</td>\n",
       "      <td>NO!, Let him, we need a Conservative government.</td>\n",
       "      <td>0.0</td>\n",
       "    </tr>\n",
       "    <tr>\n",
       "      <th>2</th>\n",
       "      <td>743361</td>\n",
       "      <td>Perhaps he took the \"power out of the Cardinal...</td>\n",
       "      <td>0.2</td>\n",
       "    </tr>\n",
       "    <tr>\n",
       "      <th>3</th>\n",
       "      <td>551008</td>\n",
       "      <td>As always, yours is dripping with sarcasm, whi...</td>\n",
       "      <td>0.0</td>\n",
       "    </tr>\n",
       "    <tr>\n",
       "      <th>4</th>\n",
       "      <td>865998</td>\n",
       "      <td>The dirty little secret is that the price rang...</td>\n",
       "      <td>0.3</td>\n",
       "    </tr>\n",
       "  </tbody>\n",
       "</table>\n",
       "</div>"
      ],
      "text/plain": [
       "        id                                       comment_text  target\n",
       "0  6101457  What are you talking about? What group do Pete...     0.0\n",
       "1  5342103   NO!, Let him, we need a Conservative government.     0.0\n",
       "2   743361  Perhaps he took the \"power out of the Cardinal...     0.2\n",
       "3   551008  As always, yours is dripping with sarcasm, whi...     0.0\n",
       "4   865998  The dirty little secret is that the price rang...     0.3"
      ]
     },
     "execution_count": 3,
     "metadata": {},
     "output_type": "execute_result"
    }
   ],
   "source": [
    "# Carga de datos de archivos .csv\n",
    "df = pd.read_csv('https://raw.githubusercontent.com/albahnsen/MIAD_ML_and_NLP/main/datasets/Toxicity.zip')\n",
    "df = df[['id','comment_text', 'target']]\n",
    "df.head()"
   ]
  },
  {
   "cell_type": "code",
   "execution_count": 4,
   "metadata": {},
   "outputs": [
    {
     "data": {
      "text/plain": [
       "<AxesSubplot:>"
      ]
     },
     "execution_count": 4,
     "metadata": {},
     "output_type": "execute_result"
    },
    {
     "data": {
      "image/png": "[encoded data removed]",
      "text/plain": [
       "<Figure size 640x480 with 1 Axes>"
      ]
     },
     "metadata": {},
     "output_type": "display_data"
    }
   ],
   "source": [
    "# Impresión histograma de variable de interés (y)\n",
    "df.target.hist()"
   ]
  },
  {
   "cell_type": "code",
   "execution_count": 5,
   "metadata": {},
   "outputs": [
    {
     "data": {
      "text/plain": [
       "count    541462.000000\n",
       "mean          0.102991\n",
       "std           0.196979\n",
       "min           0.000000\n",
       "25%           0.000000\n",
       "50%           0.000000\n",
       "75%           0.166667\n",
       "max           1.000000\n",
       "Name: target, dtype: float64"
      ]
     },
     "execution_count": 5,
     "metadata": {},
     "output_type": "execute_result"
    }
   ],
   "source": [
    "# Separación de variable de interés (y)\n",
    "y = df.target\n",
    "y.describe()"
   ]
  },
  {
   "cell_type": "code",
   "execution_count": 6,
   "metadata": {},
   "outputs": [],
   "source": [
    "# Separación de variables predictoras (X), solo se considera el texto de la noticia\n",
    "X = df.comment_text"
   ]
  },
  {
   "cell_type": "code",
   "execution_count": 7,
   "metadata": {},
   "outputs": [],
   "source": [
    "# Separación de datos en set de entrenamiento y test\n",
    "X_train, X_test, y_train, y_test = train_test_split(X, y, test_size=0.33, random_state=42)"
   ]
  },
  {
   "cell_type": "markdown",
   "metadata": {},
   "source": [
    "## Punto 1 - Tokenización con CountVectorizer\n",
    "\n",
    "En la celda 1 creen y entrenen el modelo de regresión de su preferencia, para que prediga la probabilidad de que un comentario sea tóxico, usando los set de entrenamiento y test definidos anteriormente. Usen la función **CountVectorizer** para preprocesar los comentarios y presenten el desempeño del modelo con la métrica del MSE.\n",
    "\n",
    "Recuerden que el preprocesamiento que se haga sobre los datos de entrenamiento  (*.fit_transform()*) deben ser aplicado al set de test (*.transform()*)."
   ]
  },
  {
   "cell_type": "code",
   "execution_count": 40,
   "metadata": {},
   "outputs": [],
   "source": [
    "# Celda 1\n",
    "vectorizer1 = CountVectorizer(lowercase=False, max_features=100)\n",
    "# Se define lowercase=False para no transformar los comentarios a minúscula \n",
    "# teniendo en cuenta que esto puede incidir en que sea o no sea tóxico.\n",
    "# Además, el max features se definió en 100 para reducir la dimensionalidad del problema y optimizar el tiempo en ejecutarse.\n",
    "# Esto se definió así para todos los modelos por las mismas razones."
   ]
  },
  {
   "cell_type": "code",
   "execution_count": 9,
   "metadata": {},
   "outputs": [],
   "source": [
    "X_Train1 = vectorizer1.fit_transform(X_train)\n",
    "X_Test1 = vectorizer1.transform(X_test)"
   ]
  },
  {
   "cell_type": "code",
   "execution_count": 26,
   "metadata": {},
   "outputs": [
    {
     "name": "stdout",
     "output_type": "stream",
     "text": [
      "['And', 'If', 'It', 'That', 'The', 'They', 'This', 'Trump', 'We', 'You', 'about', 'all', 'an', 'and', 'any', 'are', 'as', 'at', 'be', 'because', 'been', 'being', 'but', 'by', 'can', 'did', 'do', 'don', 'even', 'for', 'from', 'get', 'good', 'had', 'has', 'have', 'he', 'his', 'how', 'if', 'in', 'is', 'it', 'just', 'know', 'like', 'make', 'many', 'me', 'more', 'much', 'my', 'need', 'no', 'not', 'now', 'of', 'on', 'one', 'only', 'or', 'other', 'our', 'out', 'over', 'people', 'right', 'see', 'should', 'so', 'some', 'than', 'that', 'the', 'their', 'them', 'then', 'there', 'these', 'they', 'think', 'this', 'those', 'time', 'to', 'up', 'was', 'way', 'we', 'were', 'what', 'when', 'which', 'who', 'will', 'with', 'would', 'years', 'you', 'your']\n"
     ]
    }
   ],
   "source": [
    "print(vectorizer1.get_feature_names())"
   ]
  },
  {
   "cell_type": "code",
   "execution_count": 10,
   "metadata": {},
   "outputs": [
    {
     "data": {
      "text/plain": [
       "DecisionTreeRegressor(random_state=42)"
      ]
     },
     "execution_count": 10,
     "metadata": {},
     "output_type": "execute_result"
    }
   ],
   "source": [
    "decisiontree1 = DecisionTreeRegressor(random_state=42)\n",
    "decisiontree1.fit(X_Train1, y_train)"
   ]
  },
  {
   "cell_type": "code",
   "execution_count": 11,
   "metadata": {},
   "outputs": [],
   "source": [
    "y_pred1 = decisiontree1.predict(X_Test1)"
   ]
  },
  {
   "cell_type": "code",
   "execution_count": 12,
   "metadata": {},
   "outputs": [
    {
     "name": "stdout",
     "output_type": "stream",
     "text": [
      "MSE: 0.0761119877839853\n"
     ]
    }
   ],
   "source": [
    "mse1 = mean_squared_error(y_test, y_pred1)\n",
    "print(\"MSE:\", mse1)"
   ]
  },
  {
   "cell_type": "markdown",
   "metadata": {
    "tags": []
   },
   "source": [
    "El modelo de regresión a usar será arboles de decisión, puesto que los árboles de decisión son fáciles de interpretar y pueden manejar datos categóricos y numéricos. Respecto al MSE, la predicción del modelo tiene un error de 0.076 en la escala de 0 a 1 para predecir si un comentario es tóxico o no, lo que sugiere que el modelo tiene un rendimiento relativamente bueno pues el error es cercano a 0."
   ]
  },
  {
   "cell_type": "markdown",
   "metadata": {},
   "source": [
    "## Punto 2 - Tokenización con CountVectorizer y trigramas\n",
    "\n",
    "En la celda 2 creen y entrenen el mismo modelo de regresión del punto anterior (es decir si usaron un RandomForestRegresor usen nuevamente ese regresor), para que prediga la probabilidad de que un comentario sea tóxico, usando los set de entrenamiento y test definidos anteriormente. Usen la función CountVectorizer **considerando trigramas** para preprocesar los comentarios y presenten el desempeño del modelo con la métrica del MSE.\n",
    "\n",
    "Recuerden que el preprocesamiento que se haga sobre los datos de entrenamiento  (*.fit_transform()*) deben ser aplicado al set de test (*.transform()*)."
   ]
  },
  {
   "cell_type": "code",
   "execution_count": 13,
   "metadata": {},
   "outputs": [],
   "source": [
    "# Celda 2\n",
    "vectorizer2 = CountVectorizer(lowercase=False, max_features=100, ngram_range=(3,3))"
   ]
  },
  {
   "cell_type": "code",
   "execution_count": 14,
   "metadata": {},
   "outputs": [],
   "source": [
    "X_Train2 = vectorizer2.fit_transform(X_train)\n",
    "X_Test2 = vectorizer2.transform(X_test)"
   ]
  },
  {
   "cell_type": "code",
   "execution_count": 27,
   "metadata": {},
   "outputs": [
    {
     "name": "stdout",
     "output_type": "stream",
     "text": [
      "['It is not', 'It would be', 'Thank you for', 'There is no', 'This is not', 'This is the', 'We need to', 'all of the', 'and it is', 'are going to', 'as long as', 'as much as', 'as well as', 'at the time', 'back to the', 'be able to', 'because of the', 'but it is', 'do you think', 'don want to', 'end of the', 'going to be', 'has nothing to', 'have to be', 'https www youtube', 'if you are', 'in order to', 'in the US', 'in the first', 'in the last', 'in the past', 'in the same', 'in the world', 'in this country', 'is going to', 'is not the', 'is one of', 'is that the', 'it comes to', 'it is not', 'it is the', 'it will be', 'it would be', 'look at the', 'most of the', 'need to be', 'needs to be', 'not going to', 'nothing to do', 'of the people', 'of the world', 'one of the', 'out of the', 'part of the', 'rest of the', 'rest of us', 'seem to be', 'seems to be', 'should have been', 'should not be', 'some of the', 'that is the', 'that it is', 'that there is', 'that they are', 'the United States', 'the White House', 'the cost of', 'the end of', 'the fact that', 'the first place', 'the majority of', 'the number of', 'the other hand', 'the people who', 'the rest of', 'the right to', 'the same thing', 'the same time', 'there is no', 'they are not', 'they want to', 'to be the', 'to deal with', 'to do so', 'to do with', 'to go to', 'to pay for', 'to see the', 'want to be', 'we need to', 'when it comes', 'will have to', 'would have been', 'would like to', 'www youtube com', 'you have to', 'you need to', 'you want to', 'youtube com watch']\n"
     ]
    }
   ],
   "source": [
    "print(vectorizer2.get_feature_names())"
   ]
  },
  {
   "cell_type": "code",
   "execution_count": 15,
   "metadata": {},
   "outputs": [
    {
     "data": {
      "text/plain": [
       "DecisionTreeRegressor(random_state=42)"
      ]
     },
     "execution_count": 15,
     "metadata": {},
     "output_type": "execute_result"
    }
   ],
   "source": [
    "decisiontree2 = DecisionTreeRegressor(random_state=42)\n",
    "decisiontree2.fit(X_Train2, y_train)"
   ]
  },
  {
   "cell_type": "code",
   "execution_count": 16,
   "metadata": {},
   "outputs": [],
   "source": [
    "y_pred2 = decisiontree2.predict(X_Test2)"
   ]
  },
  {
   "cell_type": "code",
   "execution_count": 17,
   "metadata": {},
   "outputs": [
    {
     "name": "stdout",
     "output_type": "stream",
     "text": [
      "MSE: 0.03991647882697295\n"
     ]
    }
   ],
   "source": [
    "mse2 = mean_squared_error(y_test, y_pred2)\n",
    "print(\"MSE:\", mse2)"
   ]
  },
  {
   "cell_type": "markdown",
   "metadata": {},
   "source": [
    "Respecto al MSE, la predicción del modelo tiene un error de 0.04 en la escala de 0 a 1 para predecir si un comentario es tóxico o no, lo que sugiere que el modelo tiene un rendimiento relativamente bueno pues el error es cercano a 0; es un rendimiento mejor al primer modelo pues posee un menor error. También, al considerar trigramas, esto permite capturar mejor la relación entre las palabras en los comentarios, lo que puede mejorar la precisión del modelo y por lo tanto es mejor que el primer modelo."
   ]
  },
  {
   "cell_type": "markdown",
   "metadata": {},
   "source": [
    "## Punto 3 - TfidfVectorizer\n",
    "\n",
    "Investigen sobre la función TfidfVectorizer. En la celda de texto 3, expliquen en qué consiste esta técnica de tokenización (describanla y expliquen su funcionamiento) y cúales son las ventajas o deventajas de su uso al compararlo con la función CountVectorizer."
   ]
  },
  {
   "cell_type": "markdown",
   "metadata": {},
   "source": [
    "* En qué consiste? \n",
    "\n",
    "La función TfidfVectorizer es una técnica de tokenización que se utiliza en el procesamiento de texto. Consiste en convertir una colección de documentos de texto en una matriz de términos y sus frecuencias. La técnica TfidfVectorizer asigna un peso a cada término en función de su importancia en el documento.\n",
    "El acrónimo TF-IDF significa \"Term Frequency - Inverse Document Frequency\", que en español significa Frecuencia del Término - Frecuencia Inversa del Documento. La frecuencia del término se refiere a la cantidad de veces que un término aparece en un documento, mientras que la frecuencia inversa del documento se refiere a la cantidad de veces que aparece un término en la colección de documentos en general.\n",
    "\n",
    "*  Ventajas o desventajas \n",
    "\n",
    "La ventaja de la técnica TfidfVectorizer es que penaliza los términos que aparecen con mucha frecuencia en un documento, ya que se consideran menos importantes para la identificación del contenido del documento en comparación con los términos que aparecen con menos frecuencia. Además, esta técnica también permite detectar la presencia de palabras clave que son relevantes en la identificación del tema del documento. En comparación con la función CountVectorizer, TfidfVectorizer tiene la ventaja de asignar un peso a cada término en función de su importancia en lugar de simplemente contar la cantidad de veces que aparece cada término. Sin embargo, la desventaja es que puede ser más lento y requiere más recursos computacionales debido a los cálculos adicionales que realiza para asignar los pesos."
   ]
  },
  {
   "cell_type": "markdown",
   "metadata": {},
   "source": [
    "## Punto 4 - Tokenización con TfidfVectorizer\n",
    "\n",
    "En la celda 4 creen y entrenen el mismo modelo de regresión del primer punto, para que prediga la probabilidad de que un comentario sea tóxico, usando los set de entrenamiento y test definidos anteriormente. Procesen los comentarios con la función **TfidfVectorizer** y presenten el desempeño del modelo con la métrica del MSE.\n",
    "\n",
    "Recuerden que el preprocesamiento que se haga sobre los datos de entrenamiento  (*.fit_transform()*) deben ser aplicado al set de test (*.transform()*)."
   ]
  },
  {
   "cell_type": "code",
   "execution_count": 19,
   "metadata": {},
   "outputs": [],
   "source": [
    "# Celda 4\n",
    "vectorizer3 = TfidfVectorizer(lowercase=False, max_features=100)"
   ]
  },
  {
   "cell_type": "code",
   "execution_count": 20,
   "metadata": {},
   "outputs": [],
   "source": [
    "X_Train3 = vectorizer3.fit_transform(X_train)\n",
    "X_Test3 = vectorizer3.transform(X_test)"
   ]
  },
  {
   "cell_type": "code",
   "execution_count": 30,
   "metadata": {},
   "outputs": [
    {
     "name": "stdout",
     "output_type": "stream",
     "text": [
      "['And', 'If', 'It', 'That', 'The', 'They', 'This', 'Trump', 'We', 'You', 'about', 'all', 'an', 'and', 'any', 'are', 'as', 'at', 'be', 'because', 'been', 'being', 'but', 'by', 'can', 'did', 'do', 'don', 'even', 'for', 'from', 'get', 'good', 'had', 'has', 'have', 'he', 'his', 'how', 'if', 'in', 'is', 'it', 'just', 'know', 'like', 'make', 'many', 'me', 'more', 'much', 'my', 'need', 'no', 'not', 'now', 'of', 'on', 'one', 'only', 'or', 'other', 'our', 'out', 'over', 'people', 'right', 'see', 'should', 'so', 'some', 'than', 'that', 'the', 'their', 'them', 'then', 'there', 'these', 'they', 'think', 'this', 'those', 'time', 'to', 'up', 'was', 'way', 'we', 'were', 'what', 'when', 'which', 'who', 'will', 'with', 'would', 'years', 'you', 'your']\n"
     ]
    }
   ],
   "source": [
    "print(vectorizer3.get_feature_names())"
   ]
  },
  {
   "cell_type": "code",
   "execution_count": 21,
   "metadata": {},
   "outputs": [
    {
     "data": {
      "text/plain": [
       "DecisionTreeRegressor(random_state=42)"
      ]
     },
     "execution_count": 21,
     "metadata": {},
     "output_type": "execute_result"
    }
   ],
   "source": [
    "decisiontree3 = DecisionTreeRegressor(random_state=42)\n",
    "decisiontree3.fit(X_Train3, y_train)"
   ]
  },
  {
   "cell_type": "code",
   "execution_count": 22,
   "metadata": {},
   "outputs": [],
   "source": [
    "y_pred3 = decisiontree3.predict(X_Test3)"
   ]
  },
  {
   "cell_type": "code",
   "execution_count": 23,
   "metadata": {},
   "outputs": [
    {
     "name": "stdout",
     "output_type": "stream",
     "text": [
      "MSE: 0.07091479550014566\n"
     ]
    }
   ],
   "source": [
    "mse3 = mean_squared_error(y_test, y_pred3)\n",
    "print(\"MSE:\", mse3)"
   ]
  },
  {
   "cell_type": "markdown",
   "metadata": {},
   "source": [
    "Respecto al MSE, la predicción del modelo tiene un error de 0.07 en la escala de 0 a 1 para predecir si un comentario es tóxico o no, lo que sugiere que el modelo tiene un rendimiento relativamente bueno pues el error es cercano a 0; es un rendimiento muy relativamente mejor al primer modelo pues posee un menor error, aunque es un margen muy pequeño."
   ]
  },
  {
   "cell_type": "markdown",
   "metadata": {},
   "source": [
    "## Punto 5 - Comparación y análisis de resultados\n",
    "\n",
    "En la celda 5 comparen los resultados obtenidos de los diferentes modelos y comenten cómo el preprocesamiento de texto afecta el desempeño."
   ]
  },
  {
   "cell_type": "code",
   "execution_count": 37,
   "metadata": {},
   "outputs": [
    {
     "data": {
      "image/png": "[encoded data removed]",
      "text/plain": [
       "<Figure size 640x480 with 1 Axes>"
      ]
     },
     "metadata": {},
     "output_type": "display_data"
    }
   ],
   "source": [
    "# Celda 5\n",
    "modelos = ['CountVectorizer', 'CountVectorizer (trigramas)', 'TfidfVectorizer']\n",
    "fig, grafica = plt.subplots()\n",
    "grafica.bar(modelos, [mse1, mse2, mse3])\n",
    "grafica.set_xlabel('Modelos')\n",
    "grafica.set_ylabel('MSE')\n",
    "grafica.set_title('Comparación de MSE entre modelos')\n",
    "plt.show()"
   ]
  },
  {
   "cell_type": "markdown",
   "metadata": {},
   "source": [
    "Para este problema donde se busca predecir la toxicidad de un comentario, vemos que el modelo que utiliza CountVectorizer con trigramas tiene el mejor rendimiento. Este modelo permite capturar mejor la relación entre las palabras en los comentarios, lo que puede mejorar la precisión del modelo y por lo tanto es mejor que los dos modelos vistos, lo que sugiere que en este conjunto de datos en particular, tener en cuenta las combinaciones de tres palabras consecutivas puede ser más útil que utilizar la técnica TfidfVectorizer y que no considerar trigramas.\n",
    "\n",
    "También, cabe aclarar que la cantidad de datos que son considerados con probabilidad favorable de ser tóxicos (mayores a 0.5 en target) son minoría en los datos tal y como se puede observar en el histograma al inicio de este Notebook.  Lo cierto es que cada modelo se ajustará a los datos de acuerdo a cómo estén definidos y para este conjunto en particular, se llegó a la conclusión que el mejor modelo que predice la toxicidad de un comentario es el modelo CountVectorizer con trigramas por tener un menor MSE."
   ]
  }
 ],
 "metadata": {
  "kernelspec": {
   "display_name": "Python 3 (ipykernel)",
   "language": "python",
   "name": "python3"
  },
  "language_info": {
   "codemirror_mode": {
    "name": "ipython",
    "version": 3
   },
   "file_extension": ".py",
   "mimetype": "text/x-python",
   "name": "python",
   "nbconvert_exporter": "python",
   "pygments_lexer": "ipython3",
   "version": "3.9.13"
  },
  "name": "_merged"
 },
 "nbformat": 4,
 "nbformat_minor": 4
}
